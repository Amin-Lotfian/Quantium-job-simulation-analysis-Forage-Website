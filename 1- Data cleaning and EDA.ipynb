{
 "cells": [
  {
   "cell_type": "markdown",
   "id": "daf25f68",
   "metadata": {},
   "source": [
    "series is like dictionary and it has index and value, index may be number or name. \n",
    "but in numpy array we dont have any index, there is just a single array. "
   ]
  },
  {
   "cell_type": "markdown",
   "id": "14091dc2",
   "metadata": {},
   "source": [
    "1- MPORTING LIBRARIES AND READING FILES"
   ]
  },
  {
   "cell_type": "code",
   "execution_count": 2,
   "id": "f0a6412a",
   "metadata": {},
   "outputs": [],
   "source": [
    "import pandas as pd\n",
    "import numpy as np\n",
    "import matplotlib.pyplot as plt\n",
    "import seaborn as sns\n",
    "import re\n",
    "from datetime import datetime\n",
    "\n"
   ]
  },
  {
   "cell_type": "code",
   "execution_count": 3,
   "id": "1a301fbb",
   "metadata": {},
   "outputs": [
    {
     "data": {
      "application/vnd.microsoft.datawrangler.viewer.v0+json": {
       "columns": [
        {
         "name": "index",
         "rawType": "int64",
         "type": "integer"
        },
        {
         "name": "DATE",
         "rawType": "int64",
         "type": "integer"
        },
        {
         "name": "STORE_NBR",
         "rawType": "int64",
         "type": "integer"
        },
        {
         "name": "LYLTY_CARD_NBR",
         "rawType": "int64",
         "type": "integer"
        },
        {
         "name": "TXN_ID",
         "rawType": "int64",
         "type": "integer"
        },
        {
         "name": "PROD_NBR",
         "rawType": "int64",
         "type": "integer"
        },
        {
         "name": "PROD_NAME",
         "rawType": "object",
         "type": "string"
        },
        {
         "name": "PROD_QTY",
         "rawType": "int64",
         "type": "integer"
        },
        {
         "name": "TOT_SALES",
         "rawType": "float64",
         "type": "float"
        }
       ],
       "conversionMethod": "pd.DataFrame",
       "ref": "9ef6ffde-f281-4ba0-bbbc-68a414d5dd95",
       "rows": [
        [
         "0",
         "43390",
         "1",
         "1000",
         "1",
         "5",
         "Natural Chip        Compny SeaSalt175g",
         "2",
         "6.0"
        ],
        [
         "1",
         "43599",
         "1",
         "1307",
         "348",
         "66",
         "CCs Nacho Cheese    175g",
         "3",
         "6.3"
        ],
        [
         "2",
         "43605",
         "1",
         "1343",
         "383",
         "61",
         "Smiths Crinkle Cut  Chips Chicken 170g",
         "2",
         "2.9"
        ],
        [
         "3",
         "43329",
         "2",
         "2373",
         "974",
         "69",
         "Smiths Chip Thinly  S/Cream&Onion 175g",
         "5",
         "15.0"
        ],
        [
         "4",
         "43330",
         "2",
         "2426",
         "1038",
         "108",
         "Kettle Tortilla ChpsHny&Jlpno Chili 150g",
         "3",
         "13.8"
        ]
       ],
       "shape": {
        "columns": 8,
        "rows": 5
       }
      },
      "text/html": [
       "<div>\n",
       "<style scoped>\n",
       "    .dataframe tbody tr th:only-of-type {\n",
       "        vertical-align: middle;\n",
       "    }\n",
       "\n",
       "    .dataframe tbody tr th {\n",
       "        vertical-align: top;\n",
       "    }\n",
       "\n",
       "    .dataframe thead th {\n",
       "        text-align: right;\n",
       "    }\n",
       "</style>\n",
       "<table border=\"1\" class=\"dataframe\">\n",
       "  <thead>\n",
       "    <tr style=\"text-align: right;\">\n",
       "      <th></th>\n",
       "      <th>DATE</th>\n",
       "      <th>STORE_NBR</th>\n",
       "      <th>LYLTY_CARD_NBR</th>\n",
       "      <th>TXN_ID</th>\n",
       "      <th>PROD_NBR</th>\n",
       "      <th>PROD_NAME</th>\n",
       "      <th>PROD_QTY</th>\n",
       "      <th>TOT_SALES</th>\n",
       "    </tr>\n",
       "  </thead>\n",
       "  <tbody>\n",
       "    <tr>\n",
       "      <th>0</th>\n",
       "      <td>43390</td>\n",
       "      <td>1</td>\n",
       "      <td>1000</td>\n",
       "      <td>1</td>\n",
       "      <td>5</td>\n",
       "      <td>Natural Chip        Compny SeaSalt175g</td>\n",
       "      <td>2</td>\n",
       "      <td>6.0</td>\n",
       "    </tr>\n",
       "    <tr>\n",
       "      <th>1</th>\n",
       "      <td>43599</td>\n",
       "      <td>1</td>\n",
       "      <td>1307</td>\n",
       "      <td>348</td>\n",
       "      <td>66</td>\n",
       "      <td>CCs Nacho Cheese    175g</td>\n",
       "      <td>3</td>\n",
       "      <td>6.3</td>\n",
       "    </tr>\n",
       "    <tr>\n",
       "      <th>2</th>\n",
       "      <td>43605</td>\n",
       "      <td>1</td>\n",
       "      <td>1343</td>\n",
       "      <td>383</td>\n",
       "      <td>61</td>\n",
       "      <td>Smiths Crinkle Cut  Chips Chicken 170g</td>\n",
       "      <td>2</td>\n",
       "      <td>2.9</td>\n",
       "    </tr>\n",
       "    <tr>\n",
       "      <th>3</th>\n",
       "      <td>43329</td>\n",
       "      <td>2</td>\n",
       "      <td>2373</td>\n",
       "      <td>974</td>\n",
       "      <td>69</td>\n",
       "      <td>Smiths Chip Thinly  S/Cream&amp;Onion 175g</td>\n",
       "      <td>5</td>\n",
       "      <td>15.0</td>\n",
       "    </tr>\n",
       "    <tr>\n",
       "      <th>4</th>\n",
       "      <td>43330</td>\n",
       "      <td>2</td>\n",
       "      <td>2426</td>\n",
       "      <td>1038</td>\n",
       "      <td>108</td>\n",
       "      <td>Kettle Tortilla ChpsHny&amp;Jlpno Chili 150g</td>\n",
       "      <td>3</td>\n",
       "      <td>13.8</td>\n",
       "    </tr>\n",
       "  </tbody>\n",
       "</table>\n",
       "</div>"
      ],
      "text/plain": [
       "    DATE  STORE_NBR  LYLTY_CARD_NBR  TXN_ID  PROD_NBR  \\\n",
       "0  43390          1            1000       1         5   \n",
       "1  43599          1            1307     348        66   \n",
       "2  43605          1            1343     383        61   \n",
       "3  43329          2            2373     974        69   \n",
       "4  43330          2            2426    1038       108   \n",
       "\n",
       "                                  PROD_NAME  PROD_QTY  TOT_SALES  \n",
       "0    Natural Chip        Compny SeaSalt175g         2        6.0  \n",
       "1                  CCs Nacho Cheese    175g         3        6.3  \n",
       "2    Smiths Crinkle Cut  Chips Chicken 170g         2        2.9  \n",
       "3    Smiths Chip Thinly  S/Cream&Onion 175g         5       15.0  \n",
       "4  Kettle Tortilla ChpsHny&Jlpno Chili 150g         3       13.8  "
      ]
     },
     "execution_count": 3,
     "metadata": {},
     "output_type": "execute_result"
    }
   ],
   "source": [
    "transaction_data = pd.read_csv('QVI_transaction_data.csv')\n",
    "transaction_data.head()"
   ]
  },
  {
   "cell_type": "code",
   "execution_count": 4,
   "id": "04174e3e",
   "metadata": {},
   "outputs": [],
   "source": [
    "customer_data = pd.read_csv('QVI_purchase_behaviour.csv')"
   ]
  },
  {
   "cell_type": "markdown",
   "id": "9e6ce2ef",
   "metadata": {},
   "source": [
    "2- Quick look on the transaction_data"
   ]
  },
  {
   "cell_type": "code",
   "execution_count": 5,
   "id": "0803d896",
   "metadata": {},
   "outputs": [
    {
     "data": {
      "application/vnd.microsoft.datawrangler.viewer.v0+json": {
       "columns": [
        {
         "name": "index",
         "rawType": "int64",
         "type": "integer"
        },
        {
         "name": "DATE",
         "rawType": "int64",
         "type": "integer"
        },
        {
         "name": "STORE_NBR",
         "rawType": "int64",
         "type": "integer"
        },
        {
         "name": "LYLTY_CARD_NBR",
         "rawType": "int64",
         "type": "integer"
        },
        {
         "name": "TXN_ID",
         "rawType": "int64",
         "type": "integer"
        },
        {
         "name": "PROD_NBR",
         "rawType": "int64",
         "type": "integer"
        },
        {
         "name": "PROD_NAME",
         "rawType": "object",
         "type": "string"
        },
        {
         "name": "PROD_QTY",
         "rawType": "int64",
         "type": "integer"
        },
        {
         "name": "TOT_SALES",
         "rawType": "float64",
         "type": "float"
        }
       ],
       "conversionMethod": "pd.DataFrame",
       "ref": "77e2325d-7140-410f-be36-211d5b95792d",
       "rows": [
        [
         "0",
         "43390",
         "1",
         "1000",
         "1",
         "5",
         "Natural Chip        Compny SeaSalt175g",
         "2",
         "6.0"
        ],
        [
         "1",
         "43599",
         "1",
         "1307",
         "348",
         "66",
         "CCs Nacho Cheese    175g",
         "3",
         "6.3"
        ],
        [
         "2",
         "43605",
         "1",
         "1343",
         "383",
         "61",
         "Smiths Crinkle Cut  Chips Chicken 170g",
         "2",
         "2.9"
        ],
        [
         "3",
         "43329",
         "2",
         "2373",
         "974",
         "69",
         "Smiths Chip Thinly  S/Cream&Onion 175g",
         "5",
         "15.0"
        ],
        [
         "4",
         "43330",
         "2",
         "2426",
         "1038",
         "108",
         "Kettle Tortilla ChpsHny&Jlpno Chili 150g",
         "3",
         "13.8"
        ],
        [
         "5",
         "43604",
         "4",
         "4074",
         "2982",
         "57",
         "Old El Paso Salsa   Dip Tomato Mild 300g",
         "1",
         "5.1"
        ],
        [
         "6",
         "43601",
         "4",
         "4149",
         "3333",
         "16",
         "Smiths Crinkle Chips Salt & Vinegar 330g",
         "1",
         "5.7"
        ],
        [
         "7",
         "43601",
         "4",
         "4196",
         "3539",
         "24",
         "Grain Waves         Sweet Chilli 210g",
         "1",
         "3.6"
        ],
        [
         "8",
         "43332",
         "5",
         "5026",
         "4525",
         "42",
         "Doritos Corn Chip Mexican Jalapeno 150g",
         "1",
         "3.9"
        ],
        [
         "9",
         "43330",
         "7",
         "7150",
         "6900",
         "52",
         "Grain Waves Sour    Cream&Chives 210G",
         "2",
         "7.2"
        ],
        [
         "10",
         "43602",
         "7",
         "7215",
         "7176",
         "16",
         "Smiths Crinkle Chips Salt & Vinegar 330g",
         "1",
         "5.7"
        ],
        [
         "11",
         "43332",
         "8",
         "8294",
         "8221",
         "114",
         "Kettle Sensations   Siracha Lime 150g",
         "5",
         "23.0"
        ],
        [
         "12",
         "43603",
         "9",
         "9208",
         "8634",
         "15",
         "Twisties Cheese     270g",
         "2",
         "9.2"
        ],
        [
         "13",
         "43329",
         "13",
         "13213",
         "12447",
         "92",
         "WW Crinkle Cut      Chicken 175g",
         "1",
         "1.7"
        ],
        [
         "14",
         "43600",
         "19",
         "19272",
         "16686",
         "44",
         "Thins Chips Light&  Tangy 175g",
         "1",
         "3.3"
        ],
        [
         "15",
         "43604",
         "20",
         "20164",
         "17136",
         "54",
         "CCs Original 175g",
         "1",
         "2.1"
        ],
        [
         "16",
         "43330",
         "20",
         "20418",
         "17413",
         "94",
         "Burger Rings 220g",
         "4",
         "9.2"
        ],
        [
         "17",
         "43326",
         "22",
         "22411",
         "18646",
         "98",
         "NCC Sour Cream &    Garden Chives 175g",
         "1",
         "3.0"
        ],
        [
         "18",
         "43329",
         "22",
         "22456",
         "18696",
         "93",
         "Doritos Corn Chip Southern Chicken 150g",
         "1",
         "3.9"
        ],
        [
         "19",
         "43601",
         "23",
         "23067",
         "19162",
         "56",
         "Cheezels Cheese Box 125g",
         "1",
         "2.1"
        ],
        [
         "20",
         "43604",
         "25",
         "25105",
         "21815",
         "7",
         "Smiths Crinkle      Original 330g",
         "1",
         "5.7"
        ],
        [
         "21",
         "43328",
         "33",
         "33081",
         "29949",
         "98",
         "NCC Sour Cream &    Garden Chives 175g",
         "1",
         "3.0"
        ],
        [
         "22",
         "43328",
         "36",
         "36012",
         "32077",
         "31",
         "Infzns Crn Crnchers Tangy Gcamole 110g",
         "1",
         "3.8"
        ],
        [
         "23",
         "43331",
         "36",
         "36302",
         "33188",
         "32",
         "Kettle Sea Salt     And Vinegar 175g",
         "1",
         "5.4"
        ],
        [
         "24",
         "43327",
         "38",
         "38142",
         "34181",
         "108",
         "Kettle Tortilla ChpsHny&Jlpno Chili 150g",
         "2",
         "9.2"
        ],
        [
         "25",
         "43600",
         "39",
         "39144",
         "35506",
         "57",
         "Old El Paso Salsa   Dip Tomato Mild 300g",
         "1",
         "5.1"
        ],
        [
         "26",
         "43331",
         "39",
         "39167",
         "35638",
         "111",
         "Smiths Chip Thinly  Cut Original 175g",
         "2",
         "6.0"
        ],
        [
         "27",
         "43600",
         "41",
         "41423",
         "38393",
         "46",
         "Kettle Original 175g",
         "1",
         "5.4"
        ],
        [
         "28",
         "43327",
         "41",
         "41486",
         "38472",
         "13",
         "Red Rock Deli Thai  Chilli&Lime 150g",
         "1",
         "2.7"
        ],
        [
         "29",
         "43605",
         "43",
         "43110",
         "39342",
         "31",
         "Infzns Crn Crnchers Tangy Gcamole 110g",
         "1",
         "3.8"
        ],
        [
         "30",
         "43601",
         "43",
         "43147",
         "39608",
         "99",
         "Pringles Sthrn FriedChicken 134g",
         "1",
         "3.7"
        ],
        [
         "31",
         "43600",
         "43",
         "43227",
         "40186",
         "26",
         "Pringles Sweet&Spcy BBQ 134g",
         "4",
         "14.8"
        ],
        [
         "32",
         "43605",
         "45",
         "45127",
         "41122",
         "64",
         "Red Rock Deli SR    Salsa & Mzzrlla 150g",
         "2",
         "5.4"
        ],
        [
         "33",
         "43603",
         "45",
         "45220",
         "41651",
         "22",
         "Thins Chips         Originl saltd 175g",
         "1",
         "3.3"
        ],
        [
         "34",
         "43328",
         "51",
         "51100",
         "46802",
         "48",
         "Red Rock Deli Sp    Salt & Truffle 150G",
         "1",
         "2.7"
        ],
        [
         "35",
         "43331",
         "51",
         "51100",
         "46803",
         "37",
         "Smiths Thinly       Swt Chli&S/Cream175G",
         "1",
         "3.0"
        ],
        [
         "36",
         "43330",
         "51",
         "51113",
         "46828",
         "36",
         "Kettle Chilli 175g",
         "1",
         "5.4"
        ],
        [
         "37",
         "43329",
         "54",
         "54226",
         "48173",
         "51",
         "Doritos Mexicana    170g",
         "1",
         "4.4"
        ],
        [
         "38",
         "43330",
         "54",
         "54305",
         "48301",
         "44",
         "Thins Chips Light&  Tangy 175g",
         "2",
         "6.6"
        ],
        [
         "39",
         "43330",
         "55",
         "55072",
         "48878",
         "107",
         "Smiths Crinkle Cut  French OnionDip 150g",
         "1",
         "2.6"
        ],
        [
         "40",
         "43599",
         "55",
         "55072",
         "48883",
         "106",
         "Natural ChipCo      Hony Soy Chckn175g",
         "1",
         "3.0"
        ],
        [
         "41",
         "43605",
         "55",
         "55073",
         "48887",
         "4",
         "Dorito Corn Chp     Supreme 380g",
         "1",
         "3.25"
        ],
        [
         "42",
         "43605",
         "55",
         "55073",
         "48887",
         "113",
         "Twisties Chicken270g",
         "1",
         "4.6"
        ],
        [
         "43",
         "43601",
         "55",
         "55202",
         "49690",
         "45",
         "Smiths Thinly Cut   Roast Chicken 175g",
         "1",
         "3.0"
        ],
        [
         "44",
         "43330",
         "56",
         "56013",
         "50090",
         "39",
         "Smiths Crinkle Cut  Tomato Salsa 150g",
         "1",
         "2.6"
        ],
        [
         "45",
         "43601",
         "58",
         "58324",
         "54252",
         "102",
         "Kettle Mozzarella   Basil & Pesto 175g",
         "1",
         "5.4"
        ],
        [
         "46",
         "43601",
         "59",
         "59344",
         "56007",
         "31",
         "Infzns Crn Crnchers Tangy Gcamole 110g",
         "1",
         "3.8"
        ],
        [
         "47",
         "43328",
         "60",
         "60038",
         "56304",
         "104",
         "Infuzions Thai SweetChili PotatoMix 110g",
         "1",
         "3.8"
        ],
        [
         "48",
         "43600",
         "60",
         "60162",
         "56825",
         "7",
         "Smiths Crinkle      Original 330g",
         "1",
         "5.7"
        ],
        [
         "49",
         "43599",
         "62",
         "62177",
         "58848",
         "3",
         "Kettle Sensations   Camembert & Fig 150g",
         "1",
         "4.6"
        ]
       ],
       "shape": {
        "columns": 8,
        "rows": 264836
       }
      },
      "text/html": [
       "<div>\n",
       "<style scoped>\n",
       "    .dataframe tbody tr th:only-of-type {\n",
       "        vertical-align: middle;\n",
       "    }\n",
       "\n",
       "    .dataframe tbody tr th {\n",
       "        vertical-align: top;\n",
       "    }\n",
       "\n",
       "    .dataframe thead th {\n",
       "        text-align: right;\n",
       "    }\n",
       "</style>\n",
       "<table border=\"1\" class=\"dataframe\">\n",
       "  <thead>\n",
       "    <tr style=\"text-align: right;\">\n",
       "      <th></th>\n",
       "      <th>DATE</th>\n",
       "      <th>STORE_NBR</th>\n",
       "      <th>LYLTY_CARD_NBR</th>\n",
       "      <th>TXN_ID</th>\n",
       "      <th>PROD_NBR</th>\n",
       "      <th>PROD_NAME</th>\n",
       "      <th>PROD_QTY</th>\n",
       "      <th>TOT_SALES</th>\n",
       "    </tr>\n",
       "  </thead>\n",
       "  <tbody>\n",
       "    <tr>\n",
       "      <th>0</th>\n",
       "      <td>43390</td>\n",
       "      <td>1</td>\n",
       "      <td>1000</td>\n",
       "      <td>1</td>\n",
       "      <td>5</td>\n",
       "      <td>Natural Chip        Compny SeaSalt175g</td>\n",
       "      <td>2</td>\n",
       "      <td>6.0</td>\n",
       "    </tr>\n",
       "    <tr>\n",
       "      <th>1</th>\n",
       "      <td>43599</td>\n",
       "      <td>1</td>\n",
       "      <td>1307</td>\n",
       "      <td>348</td>\n",
       "      <td>66</td>\n",
       "      <td>CCs Nacho Cheese    175g</td>\n",
       "      <td>3</td>\n",
       "      <td>6.3</td>\n",
       "    </tr>\n",
       "    <tr>\n",
       "      <th>2</th>\n",
       "      <td>43605</td>\n",
       "      <td>1</td>\n",
       "      <td>1343</td>\n",
       "      <td>383</td>\n",
       "      <td>61</td>\n",
       "      <td>Smiths Crinkle Cut  Chips Chicken 170g</td>\n",
       "      <td>2</td>\n",
       "      <td>2.9</td>\n",
       "    </tr>\n",
       "    <tr>\n",
       "      <th>3</th>\n",
       "      <td>43329</td>\n",
       "      <td>2</td>\n",
       "      <td>2373</td>\n",
       "      <td>974</td>\n",
       "      <td>69</td>\n",
       "      <td>Smiths Chip Thinly  S/Cream&amp;Onion 175g</td>\n",
       "      <td>5</td>\n",
       "      <td>15.0</td>\n",
       "    </tr>\n",
       "    <tr>\n",
       "      <th>4</th>\n",
       "      <td>43330</td>\n",
       "      <td>2</td>\n",
       "      <td>2426</td>\n",
       "      <td>1038</td>\n",
       "      <td>108</td>\n",
       "      <td>Kettle Tortilla ChpsHny&amp;Jlpno Chili 150g</td>\n",
       "      <td>3</td>\n",
       "      <td>13.8</td>\n",
       "    </tr>\n",
       "    <tr>\n",
       "      <th>...</th>\n",
       "      <td>...</td>\n",
       "      <td>...</td>\n",
       "      <td>...</td>\n",
       "      <td>...</td>\n",
       "      <td>...</td>\n",
       "      <td>...</td>\n",
       "      <td>...</td>\n",
       "      <td>...</td>\n",
       "    </tr>\n",
       "    <tr>\n",
       "      <th>264831</th>\n",
       "      <td>43533</td>\n",
       "      <td>272</td>\n",
       "      <td>272319</td>\n",
       "      <td>270088</td>\n",
       "      <td>89</td>\n",
       "      <td>Kettle Sweet Chilli And Sour Cream 175g</td>\n",
       "      <td>2</td>\n",
       "      <td>10.8</td>\n",
       "    </tr>\n",
       "    <tr>\n",
       "      <th>264832</th>\n",
       "      <td>43325</td>\n",
       "      <td>272</td>\n",
       "      <td>272358</td>\n",
       "      <td>270154</td>\n",
       "      <td>74</td>\n",
       "      <td>Tostitos Splash Of  Lime 175g</td>\n",
       "      <td>1</td>\n",
       "      <td>4.4</td>\n",
       "    </tr>\n",
       "    <tr>\n",
       "      <th>264833</th>\n",
       "      <td>43410</td>\n",
       "      <td>272</td>\n",
       "      <td>272379</td>\n",
       "      <td>270187</td>\n",
       "      <td>51</td>\n",
       "      <td>Doritos Mexicana    170g</td>\n",
       "      <td>2</td>\n",
       "      <td>8.8</td>\n",
       "    </tr>\n",
       "    <tr>\n",
       "      <th>264834</th>\n",
       "      <td>43461</td>\n",
       "      <td>272</td>\n",
       "      <td>272379</td>\n",
       "      <td>270188</td>\n",
       "      <td>42</td>\n",
       "      <td>Doritos Corn Chip Mexican Jalapeno 150g</td>\n",
       "      <td>2</td>\n",
       "      <td>7.8</td>\n",
       "    </tr>\n",
       "    <tr>\n",
       "      <th>264835</th>\n",
       "      <td>43365</td>\n",
       "      <td>272</td>\n",
       "      <td>272380</td>\n",
       "      <td>270189</td>\n",
       "      <td>74</td>\n",
       "      <td>Tostitos Splash Of  Lime 175g</td>\n",
       "      <td>2</td>\n",
       "      <td>8.8</td>\n",
       "    </tr>\n",
       "  </tbody>\n",
       "</table>\n",
       "<p>264836 rows × 8 columns</p>\n",
       "</div>"
      ],
      "text/plain": [
       "         DATE  STORE_NBR  LYLTY_CARD_NBR  TXN_ID  PROD_NBR  \\\n",
       "0       43390          1            1000       1         5   \n",
       "1       43599          1            1307     348        66   \n",
       "2       43605          1            1343     383        61   \n",
       "3       43329          2            2373     974        69   \n",
       "4       43330          2            2426    1038       108   \n",
       "...       ...        ...             ...     ...       ...   \n",
       "264831  43533        272          272319  270088        89   \n",
       "264832  43325        272          272358  270154        74   \n",
       "264833  43410        272          272379  270187        51   \n",
       "264834  43461        272          272379  270188        42   \n",
       "264835  43365        272          272380  270189        74   \n",
       "\n",
       "                                       PROD_NAME  PROD_QTY  TOT_SALES  \n",
       "0         Natural Chip        Compny SeaSalt175g         2        6.0  \n",
       "1                       CCs Nacho Cheese    175g         3        6.3  \n",
       "2         Smiths Crinkle Cut  Chips Chicken 170g         2        2.9  \n",
       "3         Smiths Chip Thinly  S/Cream&Onion 175g         5       15.0  \n",
       "4       Kettle Tortilla ChpsHny&Jlpno Chili 150g         3       13.8  \n",
       "...                                          ...       ...        ...  \n",
       "264831   Kettle Sweet Chilli And Sour Cream 175g         2       10.8  \n",
       "264832             Tostitos Splash Of  Lime 175g         1        4.4  \n",
       "264833                  Doritos Mexicana    170g         2        8.8  \n",
       "264834   Doritos Corn Chip Mexican Jalapeno 150g         2        7.8  \n",
       "264835             Tostitos Splash Of  Lime 175g         2        8.8  \n",
       "\n",
       "[264836 rows x 8 columns]"
      ]
     },
     "execution_count": 5,
     "metadata": {},
     "output_type": "execute_result"
    }
   ],
   "source": [
    "# lets go through the transaction_data\n",
    "# data wrangler\n",
    "transaction_data"
   ]
  },
  {
   "cell_type": "code",
   "execution_count": 6,
   "id": "af9b2bc4",
   "metadata": {},
   "outputs": [
    {
     "name": "stdout",
     "output_type": "stream",
     "text": [
      "<class 'pandas.core.frame.DataFrame'>\n",
      "RangeIndex: 264836 entries, 0 to 264835\n",
      "Data columns (total 8 columns):\n",
      " #   Column          Non-Null Count   Dtype  \n",
      "---  ------          --------------   -----  \n",
      " 0   DATE            264836 non-null  int64  \n",
      " 1   STORE_NBR       264836 non-null  int64  \n",
      " 2   LYLTY_CARD_NBR  264836 non-null  int64  \n",
      " 3   TXN_ID          264836 non-null  int64  \n",
      " 4   PROD_NBR        264836 non-null  int64  \n",
      " 5   PROD_NAME       264836 non-null  object \n",
      " 6   PROD_QTY        264836 non-null  int64  \n",
      " 7   TOT_SALES       264836 non-null  float64\n",
      "dtypes: float64(1), int64(6), object(1)\n",
      "memory usage: 16.2+ MB\n"
     ]
    },
    {
     "data": {
      "text/plain": [
       "DATE              0\n",
       "STORE_NBR         0\n",
       "LYLTY_CARD_NBR    0\n",
       "TXN_ID            0\n",
       "PROD_NBR          0\n",
       "PROD_NAME         0\n",
       "PROD_QTY          0\n",
       "TOT_SALES         0\n",
       "dtype: int64"
      ]
     },
     "execution_count": 6,
     "metadata": {},
     "output_type": "execute_result"
    }
   ],
   "source": [
    "\n",
    "transaction_data.describe()\n",
    "transaction_data.info()\n",
    "transaction_data.isnull().sum()"
   ]
  },
  {
   "cell_type": "markdown",
   "id": "008a6031",
   "metadata": {},
   "source": [
    "3- FORMATTING"
   ]
  },
  {
   "cell_type": "code",
   "execution_count": 7,
   "id": "087b5c36",
   "metadata": {},
   "outputs": [],
   "source": [
    "# Convert integer date to proper datetime\n",
    "transaction_data['DATE'] = pd.to_datetime(transaction_data['DATE'], origin='1899-12-30', unit='D')\n"
   ]
  },
  {
   "cell_type": "markdown",
   "id": "8ca36a26",
   "metadata": {},
   "source": [
    "4- CHECK FOR MISSING DATES"
   ]
  },
  {
   "cell_type": "code",
   "execution_count": 8,
   "id": "3bd5c120",
   "metadata": {},
   "outputs": [
    {
     "data": {
      "text/plain": [
       "count    364.000000\n",
       "mean     727.571429\n",
       "std       35.256836\n",
       "min      648.000000\n",
       "25%      706.750000\n",
       "50%      724.000000\n",
       "75%      744.250000\n",
       "max      939.000000\n",
       "dtype: float64"
      ]
     },
     "execution_count": 8,
     "metadata": {},
     "output_type": "execute_result"
    }
   ],
   "source": [
    "# now we want to see if we have any missing dates\n",
    "transactions_by_date = transaction_data.groupby('DATE').size()\n",
    "transactions_by_date.describe()"
   ]
  },
  {
   "cell_type": "code",
   "execution_count": 9,
   "id": "851b3216",
   "metadata": {},
   "outputs": [
    {
     "data": {
      "image/png": "[encoded data removed]",
      "text/plain": [
       "<Figure size 1500x500 with 1 Axes>"
      ]
     },
     "metadata": {},
     "output_type": "display_data"
    }
   ],
   "source": [
    "# we see there is 364 rows, so we plot all the dates to see the probable gap\n",
    "\n",
    "\n",
    "# Create a full date range\n",
    "full_date_range = pd.date_range(start='2018-07-01', end='2019-06-30')\n",
    "\n",
    "# Reindex to include missing dates\n",
    "transactions_by_date_full = transactions_by_date.reindex(full_date_range, fill_value=0)\n",
    "\n",
    "# Plot transaction count over time\n",
    "plt.figure(figsize=(15,5))\n",
    "transactions_by_date_full.plot()\n",
    "plt.title('Transactions Per Day')\n",
    "plt.xlabel('Date')\n",
    "plt.ylabel('Number of Transactions')\n",
    "plt.tight_layout()\n",
    "plt.show()"
   ]
  },
  {
   "cell_type": "markdown",
   "id": "ad13a3bc",
   "metadata": {},
   "source": [
    "5- PRODUCT NAMES ANALYSIS"
   ]
  },
  {
   "cell_type": "code",
   "execution_count": 10,
   "id": "a6a8fe65",
   "metadata": {},
   "outputs": [
    {
     "data": {
      "text/plain": [
       "0        Natural Chip        Compny SeaSalt175g\n",
       "1                      CCs Nacho Cheese    175g\n",
       "2        Smiths Crinkle Cut  Chips Chicken 170g\n",
       "3        Smiths Chip Thinly  S/Cream&Onion 175g\n",
       "4      Kettle Tortilla ChpsHny&Jlpno Chili 150g\n",
       "                         ...                   \n",
       "109       Red Rock Deli Chikn&Garlic Aioli 150g\n",
       "110         RRD SR Slow Rst     Pork Belly 150g\n",
       "111                    RRD Pc Sea Salt     165g\n",
       "112          Smith Crinkle Cut   Bolognese 150g\n",
       "113                    Doritos Salsa Mild  300g\n",
       "Length: 114, dtype: object"
      ]
     },
     "execution_count": 10,
     "metadata": {},
     "output_type": "execute_result"
    }
   ],
   "source": [
    "product_names = transaction_data['PROD_NAME']    # panda series\n",
    "product_names = transaction_data['PROD_NAME'].unique()  # numpy array\n",
    "product_names = pd.Series(product_names)   # panda series\n",
    "product_names\n"
   ]
  },
  {
   "cell_type": "code",
   "execution_count": 11,
   "id": "959c6ec1",
   "metadata": {},
   "outputs": [
    {
     "data": {
      "text/plain": [
       "0      Natural\n",
       "1         Chip\n",
       "2             \n",
       "3             \n",
       "4             \n",
       "        ...   \n",
       "818    Doritos\n",
       "819      Salsa\n",
       "820       Mild\n",
       "821           \n",
       "822       300g\n",
       "Length: 823, dtype: object"
      ]
     },
     "execution_count": 11,
     "metadata": {},
     "output_type": "execute_result"
    }
   ],
   "source": [
    "product_words = \" \".join(product_names).split(\" \")  # List\n",
    "product_words = pd.Series(product_words)   # panda series\n",
    "product_words\n"
   ]
  },
  {
   "cell_type": "code",
   "execution_count": 12,
   "id": "3b7c6106",
   "metadata": {},
   "outputs": [
    {
     "data": {
      "application/vnd.microsoft.datawrangler.viewer.v0+json": {
       "columns": [
        {
         "name": "index",
         "rawType": "int64",
         "type": "integer"
        },
        {
         "name": "index",
         "rawType": "int64",
         "type": "integer"
        },
        {
         "name": "0",
         "rawType": "object",
         "type": "string"
        }
       ],
       "conversionMethod": "pd.DataFrame",
       "ref": "4db16aac-02d5-421b-9649-c7d4571c1824",
       "rows": [
        [
         "0",
         "0",
         "Natural"
        ],
        [
         "1",
         "1",
         "Chip"
        ],
        [
         "2",
         "9",
         "Compny"
        ],
        [
         "3",
         "11",
         "CCs"
        ],
        [
         "4",
         "12",
         "Nacho"
        ],
        [
         "5",
         "13",
         "Cheese"
        ],
        [
         "6",
         "18",
         "Smiths"
        ],
        [
         "7",
         "19",
         "Crinkle"
        ],
        [
         "8",
         "20",
         "Cut"
        ],
        [
         "9",
         "22",
         "Chips"
        ],
        [
         "10",
         "23",
         "Chicken"
        ],
        [
         "11",
         "25",
         "Smiths"
        ],
        [
         "12",
         "26",
         "Chip"
        ],
        [
         "13",
         "27",
         "Thinly"
        ],
        [
         "14",
         "29",
         "S/Cream&Onion"
        ],
        [
         "15",
         "31",
         "Kettle"
        ],
        [
         "16",
         "32",
         "Tortilla"
        ],
        [
         "17",
         "33",
         "ChpsHny&Jlpno"
        ],
        [
         "18",
         "34",
         "Chili"
        ],
        [
         "19",
         "36",
         "Old"
        ],
        [
         "20",
         "37",
         "El"
        ],
        [
         "21",
         "38",
         "Paso"
        ],
        [
         "22",
         "39",
         "Salsa"
        ],
        [
         "23",
         "42",
         "Dip"
        ],
        [
         "24",
         "43",
         "Tomato"
        ],
        [
         "25",
         "44",
         "Mild"
        ],
        [
         "26",
         "46",
         "Smiths"
        ],
        [
         "27",
         "47",
         "Crinkle"
        ],
        [
         "28",
         "48",
         "Chips"
        ],
        [
         "29",
         "49",
         "Salt"
        ],
        [
         "30",
         "51",
         "Vinegar"
        ],
        [
         "31",
         "53",
         "Grain"
        ],
        [
         "32",
         "54",
         "Waves"
        ],
        [
         "33",
         "63",
         "Sweet"
        ],
        [
         "34",
         "64",
         "Chilli"
        ],
        [
         "35",
         "66",
         "Doritos"
        ],
        [
         "36",
         "67",
         "Corn"
        ],
        [
         "37",
         "68",
         "Chip"
        ],
        [
         "38",
         "69",
         "Mexican"
        ],
        [
         "39",
         "70",
         "Jalapeno"
        ],
        [
         "40",
         "72",
         "Grain"
        ],
        [
         "41",
         "73",
         "Waves"
        ],
        [
         "42",
         "74",
         "Sour"
        ],
        [
         "43",
         "78",
         "Cream&Chives"
        ],
        [
         "44",
         "80",
         "Kettle"
        ],
        [
         "45",
         "81",
         "Sensations"
        ],
        [
         "46",
         "84",
         "Siracha"
        ],
        [
         "47",
         "85",
         "Lime"
        ],
        [
         "48",
         "87",
         "Twisties"
        ],
        [
         "49",
         "88",
         "Cheese"
        ]
       ],
       "shape": {
        "columns": 2,
        "rows": 458
       }
      },
      "text/html": [
       "<div>\n",
       "<style scoped>\n",
       "    .dataframe tbody tr th:only-of-type {\n",
       "        vertical-align: middle;\n",
       "    }\n",
       "\n",
       "    .dataframe tbody tr th {\n",
       "        vertical-align: top;\n",
       "    }\n",
       "\n",
       "    .dataframe thead th {\n",
       "        text-align: right;\n",
       "    }\n",
       "</style>\n",
       "<table border=\"1\" class=\"dataframe\">\n",
       "  <thead>\n",
       "    <tr style=\"text-align: right;\">\n",
       "      <th></th>\n",
       "      <th>index</th>\n",
       "      <th>0</th>\n",
       "    </tr>\n",
       "  </thead>\n",
       "  <tbody>\n",
       "    <tr>\n",
       "      <th>0</th>\n",
       "      <td>0</td>\n",
       "      <td>Natural</td>\n",
       "    </tr>\n",
       "    <tr>\n",
       "      <th>1</th>\n",
       "      <td>1</td>\n",
       "      <td>Chip</td>\n",
       "    </tr>\n",
       "    <tr>\n",
       "      <th>2</th>\n",
       "      <td>9</td>\n",
       "      <td>Compny</td>\n",
       "    </tr>\n",
       "    <tr>\n",
       "      <th>3</th>\n",
       "      <td>11</td>\n",
       "      <td>CCs</td>\n",
       "    </tr>\n",
       "    <tr>\n",
       "      <th>4</th>\n",
       "      <td>12</td>\n",
       "      <td>Nacho</td>\n",
       "    </tr>\n",
       "    <tr>\n",
       "      <th>...</th>\n",
       "      <td>...</td>\n",
       "      <td>...</td>\n",
       "    </tr>\n",
       "    <tr>\n",
       "      <th>453</th>\n",
       "      <td>813</td>\n",
       "      <td>Cut</td>\n",
       "    </tr>\n",
       "    <tr>\n",
       "      <th>454</th>\n",
       "      <td>816</td>\n",
       "      <td>Bolognese</td>\n",
       "    </tr>\n",
       "    <tr>\n",
       "      <th>455</th>\n",
       "      <td>818</td>\n",
       "      <td>Doritos</td>\n",
       "    </tr>\n",
       "    <tr>\n",
       "      <th>456</th>\n",
       "      <td>819</td>\n",
       "      <td>Salsa</td>\n",
       "    </tr>\n",
       "    <tr>\n",
       "      <th>457</th>\n",
       "      <td>820</td>\n",
       "      <td>Mild</td>\n",
       "    </tr>\n",
       "  </tbody>\n",
       "</table>\n",
       "<p>458 rows × 2 columns</p>\n",
       "</div>"
      ],
      "text/plain": [
       "     index          0\n",
       "0        0    Natural\n",
       "1        1       Chip\n",
       "2        9     Compny\n",
       "3       11        CCs\n",
       "4       12      Nacho\n",
       "..     ...        ...\n",
       "453    813        Cut\n",
       "454    816  Bolognese\n",
       "455    818    Doritos\n",
       "456    819      Salsa\n",
       "457    820       Mild\n",
       "\n",
       "[458 rows x 2 columns]"
      ]
     },
     "execution_count": 12,
     "metadata": {},
     "output_type": "execute_result"
    }
   ],
   "source": [
    "product_words_clean = product_words[product_words.str.contains(\"[a-zA-Z]\", regex=True) & ~product_words.str.contains(r'\\d')]\n",
    "product_words_clean.reset_index()\n",
    "\n"
   ]
  },
  {
   "cell_type": "code",
   "execution_count": 13,
   "id": "9d026c80",
   "metadata": {},
   "outputs": [
    {
     "data": {
      "text/plain": [
       "Chips       21\n",
       "Smiths      16\n",
       "Crinkle     14\n",
       "Cut         14\n",
       "Kettle      13\n",
       "Cheese      12\n",
       "Salt        12\n",
       "Original    10\n",
       "Salsa        9\n",
       "Chip         9\n",
       "Name: count, dtype: int64"
      ]
     },
     "execution_count": 13,
     "metadata": {},
     "output_type": "execute_result"
    }
   ],
   "source": [
    "product_words_clean.value_counts().head(10)"
   ]
  },
  {
   "cell_type": "markdown",
   "id": "4f61aff8",
   "metadata": {},
   "source": [
    "5-1- CORRECTIONS for PRODUCT NAMES"
   ]
  },
  {
   "cell_type": "code",
   "execution_count": 14,
   "id": "d5790fe4",
   "metadata": {},
   "outputs": [],
   "source": [
    "# Remove rows where 'salsa' appears in product name\n",
    "transaction_data = transaction_data[~transaction_data['PROD_NAME'].str.lower().str.contains('salsa')]\n"
   ]
  },
  {
   "cell_type": "code",
   "execution_count": 15,
   "id": "746e8844",
   "metadata": {},
   "outputs": [
    {
     "name": "stderr",
     "output_type": "stream",
     "text": [
      "C:\\Users\\Amin\\AppData\\Local\\Temp\\ipykernel_26824\\1586636380.py:2: SettingWithCopyWarning: \n",
      "A value is trying to be set on a copy of a slice from a DataFrame.\n",
      "Try using .loc[row_indexer,col_indexer] = value instead\n",
      "\n",
      "See the caveats in the documentation: https://pandas.pydata.org/pandas-docs/stable/user_guide/indexing.html#returning-a-view-versus-a-copy\n",
      "  transaction_data['PROD_NAME'] = transaction_data['PROD_NAME'].str.lower().str.replace('chip ', 'chips ')\n"
     ]
    }
   ],
   "source": [
    "# Replace 'chip' with 'chips' to unify the term\n",
    "transaction_data['PROD_NAME'] = transaction_data['PROD_NAME'].str.lower().str.replace('chip ', 'chips ')\n"
   ]
  },
  {
   "cell_type": "code",
   "execution_count": 16,
   "id": "d80be071",
   "metadata": {},
   "outputs": [
    {
     "data": {
      "application/vnd.microsoft.datawrangler.viewer.v0+json": {
       "columns": [
        {
         "name": "index",
         "rawType": "int64",
         "type": "integer"
        },
        {
         "name": "DATE",
         "rawType": "datetime64[ns]",
         "type": "datetime"
        },
        {
         "name": "STORE_NBR",
         "rawType": "int64",
         "type": "integer"
        },
        {
         "name": "LYLTY_CARD_NBR",
         "rawType": "int64",
         "type": "integer"
        },
        {
         "name": "TXN_ID",
         "rawType": "int64",
         "type": "integer"
        },
        {
         "name": "PROD_NBR",
         "rawType": "int64",
         "type": "integer"
        },
        {
         "name": "PROD_NAME",
         "rawType": "object",
         "type": "string"
        },
        {
         "name": "PROD_QTY",
         "rawType": "int64",
         "type": "integer"
        },
        {
         "name": "TOT_SALES",
         "rawType": "float64",
         "type": "float"
        }
       ],
       "conversionMethod": "pd.DataFrame",
       "ref": "e7dd46ba-5d04-440f-9a00-108fa57817b1",
       "rows": [
        [
         "0",
         "2018-10-17 00:00:00",
         "1",
         "1000",
         "1",
         "5",
         "natural chips        compny seasalt175g",
         "2",
         "6.0"
        ],
        [
         "1",
         "2019-05-14 00:00:00",
         "1",
         "1307",
         "348",
         "66",
         "ccs nacho cheese    175g",
         "3",
         "6.3"
        ],
        [
         "2",
         "2019-05-20 00:00:00",
         "1",
         "1343",
         "383",
         "61",
         "smiths crinkle cut  chips chicken 170g",
         "2",
         "2.9"
        ],
        [
         "3",
         "2018-08-17 00:00:00",
         "2",
         "2373",
         "974",
         "69",
         "smiths chips thinly  s/cream&onion 175g",
         "5",
         "15.0"
        ],
        [
         "4",
         "2018-08-18 00:00:00",
         "2",
         "2426",
         "1038",
         "108",
         "kettle tortilla chpshny&jlpno chili 150g",
         "3",
         "13.8"
        ],
        [
         "6",
         "2019-05-16 00:00:00",
         "4",
         "4149",
         "3333",
         "16",
         "smiths crinkle chips salt & vinegar 330g",
         "1",
         "5.7"
        ],
        [
         "7",
         "2019-05-16 00:00:00",
         "4",
         "4196",
         "3539",
         "24",
         "grain waves         sweet chilli 210g",
         "1",
         "3.6"
        ],
        [
         "8",
         "2018-08-20 00:00:00",
         "5",
         "5026",
         "4525",
         "42",
         "doritos corn chips mexican jalapeno 150g",
         "1",
         "3.9"
        ],
        [
         "9",
         "2018-08-18 00:00:00",
         "7",
         "7150",
         "6900",
         "52",
         "grain waves sour    cream&chives 210g",
         "2",
         "7.2"
        ],
        [
         "10",
         "2019-05-17 00:00:00",
         "7",
         "7215",
         "7176",
         "16",
         "smiths crinkle chips salt & vinegar 330g",
         "1",
         "5.7"
        ],
        [
         "11",
         "2018-08-20 00:00:00",
         "8",
         "8294",
         "8221",
         "114",
         "kettle sensations   siracha lime 150g",
         "5",
         "23.0"
        ],
        [
         "12",
         "2019-05-18 00:00:00",
         "9",
         "9208",
         "8634",
         "15",
         "twisties cheese     270g",
         "2",
         "9.2"
        ],
        [
         "13",
         "2018-08-17 00:00:00",
         "13",
         "13213",
         "12447",
         "92",
         "ww crinkle cut      chicken 175g",
         "1",
         "1.7"
        ],
        [
         "14",
         "2019-05-15 00:00:00",
         "19",
         "19272",
         "16686",
         "44",
         "thins chips light&  tangy 175g",
         "1",
         "3.3"
        ],
        [
         "15",
         "2019-05-19 00:00:00",
         "20",
         "20164",
         "17136",
         "54",
         "ccs original 175g",
         "1",
         "2.1"
        ],
        [
         "16",
         "2018-08-18 00:00:00",
         "20",
         "20418",
         "17413",
         "94",
         "burger rings 220g",
         "4",
         "9.2"
        ],
        [
         "17",
         "2018-08-14 00:00:00",
         "22",
         "22411",
         "18646",
         "98",
         "ncc sour cream &    garden chives 175g",
         "1",
         "3.0"
        ],
        [
         "18",
         "2018-08-17 00:00:00",
         "22",
         "22456",
         "18696",
         "93",
         "doritos corn chips southern chicken 150g",
         "1",
         "3.9"
        ],
        [
         "19",
         "2019-05-16 00:00:00",
         "23",
         "23067",
         "19162",
         "56",
         "cheezels cheese box 125g",
         "1",
         "2.1"
        ],
        [
         "20",
         "2019-05-19 00:00:00",
         "25",
         "25105",
         "21815",
         "7",
         "smiths crinkle      original 330g",
         "1",
         "5.7"
        ],
        [
         "21",
         "2018-08-16 00:00:00",
         "33",
         "33081",
         "29949",
         "98",
         "ncc sour cream &    garden chives 175g",
         "1",
         "3.0"
        ],
        [
         "22",
         "2018-08-16 00:00:00",
         "36",
         "36012",
         "32077",
         "31",
         "infzns crn crnchers tangy gcamole 110g",
         "1",
         "3.8"
        ],
        [
         "23",
         "2018-08-19 00:00:00",
         "36",
         "36302",
         "33188",
         "32",
         "kettle sea salt     and vinegar 175g",
         "1",
         "5.4"
        ],
        [
         "24",
         "2018-08-15 00:00:00",
         "38",
         "38142",
         "34181",
         "108",
         "kettle tortilla chpshny&jlpno chili 150g",
         "2",
         "9.2"
        ],
        [
         "26",
         "2018-08-19 00:00:00",
         "39",
         "39167",
         "35638",
         "111",
         "smiths chips thinly  cut original 175g",
         "2",
         "6.0"
        ],
        [
         "27",
         "2019-05-15 00:00:00",
         "41",
         "41423",
         "38393",
         "46",
         "kettle original 175g",
         "1",
         "5.4"
        ],
        [
         "28",
         "2018-08-15 00:00:00",
         "41",
         "41486",
         "38472",
         "13",
         "red rock deli thai  chilli&lime 150g",
         "1",
         "2.7"
        ],
        [
         "29",
         "2019-05-20 00:00:00",
         "43",
         "43110",
         "39342",
         "31",
         "infzns crn crnchers tangy gcamole 110g",
         "1",
         "3.8"
        ],
        [
         "30",
         "2019-05-16 00:00:00",
         "43",
         "43147",
         "39608",
         "99",
         "pringles sthrn friedchicken 134g",
         "1",
         "3.7"
        ],
        [
         "31",
         "2019-05-15 00:00:00",
         "43",
         "43227",
         "40186",
         "26",
         "pringles sweet&spcy bbq 134g",
         "4",
         "14.8"
        ],
        [
         "33",
         "2019-05-18 00:00:00",
         "45",
         "45220",
         "41651",
         "22",
         "thins chips         originl saltd 175g",
         "1",
         "3.3"
        ],
        [
         "34",
         "2018-08-16 00:00:00",
         "51",
         "51100",
         "46802",
         "48",
         "red rock deli sp    salt & truffle 150g",
         "1",
         "2.7"
        ],
        [
         "35",
         "2018-08-19 00:00:00",
         "51",
         "51100",
         "46803",
         "37",
         "smiths thinly       swt chli&s/cream175g",
         "1",
         "3.0"
        ],
        [
         "36",
         "2018-08-18 00:00:00",
         "51",
         "51113",
         "46828",
         "36",
         "kettle chilli 175g",
         "1",
         "5.4"
        ],
        [
         "37",
         "2018-08-17 00:00:00",
         "54",
         "54226",
         "48173",
         "51",
         "doritos mexicana    170g",
         "1",
         "4.4"
        ],
        [
         "38",
         "2018-08-18 00:00:00",
         "54",
         "54305",
         "48301",
         "44",
         "thins chips light&  tangy 175g",
         "2",
         "6.6"
        ],
        [
         "39",
         "2018-08-18 00:00:00",
         "55",
         "55072",
         "48878",
         "107",
         "smiths crinkle cut  french oniondip 150g",
         "1",
         "2.6"
        ],
        [
         "40",
         "2019-05-14 00:00:00",
         "55",
         "55072",
         "48883",
         "106",
         "natural chipco      hony soy chckn175g",
         "1",
         "3.0"
        ],
        [
         "41",
         "2019-05-20 00:00:00",
         "55",
         "55073",
         "48887",
         "4",
         "dorito corn chp     supreme 380g",
         "1",
         "3.25"
        ],
        [
         "42",
         "2019-05-20 00:00:00",
         "55",
         "55073",
         "48887",
         "113",
         "twisties chicken270g",
         "1",
         "4.6"
        ],
        [
         "43",
         "2019-05-16 00:00:00",
         "55",
         "55202",
         "49690",
         "45",
         "smiths thinly cut   roast chicken 175g",
         "1",
         "3.0"
        ],
        [
         "45",
         "2019-05-16 00:00:00",
         "58",
         "58324",
         "54252",
         "102",
         "kettle mozzarella   basil & pesto 175g",
         "1",
         "5.4"
        ],
        [
         "46",
         "2019-05-16 00:00:00",
         "59",
         "59344",
         "56007",
         "31",
         "infzns crn crnchers tangy gcamole 110g",
         "1",
         "3.8"
        ],
        [
         "47",
         "2018-08-16 00:00:00",
         "60",
         "60038",
         "56304",
         "104",
         "infuzions thai sweetchili potatomix 110g",
         "1",
         "3.8"
        ],
        [
         "48",
         "2019-05-15 00:00:00",
         "60",
         "60162",
         "56825",
         "7",
         "smiths crinkle      original 330g",
         "1",
         "5.7"
        ],
        [
         "49",
         "2019-05-14 00:00:00",
         "62",
         "62177",
         "58848",
         "3",
         "kettle sensations   camembert & fig 150g",
         "1",
         "4.6"
        ],
        [
         "50",
         "2019-05-20 00:00:00",
         "63",
         "63201",
         "60709",
         "82",
         "smith crinkle cut   mac n cheese 150g",
         "1",
         "2.6"
        ],
        [
         "51",
         "2018-08-20 00:00:00",
         "67",
         "67053",
         "64137",
         "88",
         "kettle honey soy    chicken 175g",
         "1",
         "5.4"
        ],
        [
         "52",
         "2019-05-20 00:00:00",
         "71",
         "71122",
         "69717",
         "40",
         "thins chips seasonedchicken 175g",
         "1",
         "3.3"
        ],
        [
         "53",
         "2019-05-19 00:00:00",
         "71",
         "71212",
         "70337",
         "73",
         "smiths crinkle cut  salt & vinegar 170g",
         "2",
         "5.8"
        ]
       ],
       "shape": {
        "columns": 8,
        "rows": 246742
       }
      },
      "text/html": [
       "<div>\n",
       "<style scoped>\n",
       "    .dataframe tbody tr th:only-of-type {\n",
       "        vertical-align: middle;\n",
       "    }\n",
       "\n",
       "    .dataframe tbody tr th {\n",
       "        vertical-align: top;\n",
       "    }\n",
       "\n",
       "    .dataframe thead th {\n",
       "        text-align: right;\n",
       "    }\n",
       "</style>\n",
       "<table border=\"1\" class=\"dataframe\">\n",
       "  <thead>\n",
       "    <tr style=\"text-align: right;\">\n",
       "      <th></th>\n",
       "      <th>DATE</th>\n",
       "      <th>STORE_NBR</th>\n",
       "      <th>LYLTY_CARD_NBR</th>\n",
       "      <th>TXN_ID</th>\n",
       "      <th>PROD_NBR</th>\n",
       "      <th>PROD_NAME</th>\n",
       "      <th>PROD_QTY</th>\n",
       "      <th>TOT_SALES</th>\n",
       "    </tr>\n",
       "  </thead>\n",
       "  <tbody>\n",
       "    <tr>\n",
       "      <th>0</th>\n",
       "      <td>2018-10-17</td>\n",
       "      <td>1</td>\n",
       "      <td>1000</td>\n",
       "      <td>1</td>\n",
       "      <td>5</td>\n",
       "      <td>natural chips        compny seasalt175g</td>\n",
       "      <td>2</td>\n",
       "      <td>6.0</td>\n",
       "    </tr>\n",
       "    <tr>\n",
       "      <th>1</th>\n",
       "      <td>2019-05-14</td>\n",
       "      <td>1</td>\n",
       "      <td>1307</td>\n",
       "      <td>348</td>\n",
       "      <td>66</td>\n",
       "      <td>ccs nacho cheese    175g</td>\n",
       "      <td>3</td>\n",
       "      <td>6.3</td>\n",
       "    </tr>\n",
       "    <tr>\n",
       "      <th>2</th>\n",
       "      <td>2019-05-20</td>\n",
       "      <td>1</td>\n",
       "      <td>1343</td>\n",
       "      <td>383</td>\n",
       "      <td>61</td>\n",
       "      <td>smiths crinkle cut  chips chicken 170g</td>\n",
       "      <td>2</td>\n",
       "      <td>2.9</td>\n",
       "    </tr>\n",
       "    <tr>\n",
       "      <th>3</th>\n",
       "      <td>2018-08-17</td>\n",
       "      <td>2</td>\n",
       "      <td>2373</td>\n",
       "      <td>974</td>\n",
       "      <td>69</td>\n",
       "      <td>smiths chips thinly  s/cream&amp;onion 175g</td>\n",
       "      <td>5</td>\n",
       "      <td>15.0</td>\n",
       "    </tr>\n",
       "    <tr>\n",
       "      <th>4</th>\n",
       "      <td>2018-08-18</td>\n",
       "      <td>2</td>\n",
       "      <td>2426</td>\n",
       "      <td>1038</td>\n",
       "      <td>108</td>\n",
       "      <td>kettle tortilla chpshny&amp;jlpno chili 150g</td>\n",
       "      <td>3</td>\n",
       "      <td>13.8</td>\n",
       "    </tr>\n",
       "    <tr>\n",
       "      <th>...</th>\n",
       "      <td>...</td>\n",
       "      <td>...</td>\n",
       "      <td>...</td>\n",
       "      <td>...</td>\n",
       "      <td>...</td>\n",
       "      <td>...</td>\n",
       "      <td>...</td>\n",
       "      <td>...</td>\n",
       "    </tr>\n",
       "    <tr>\n",
       "      <th>264831</th>\n",
       "      <td>2019-03-09</td>\n",
       "      <td>272</td>\n",
       "      <td>272319</td>\n",
       "      <td>270088</td>\n",
       "      <td>89</td>\n",
       "      <td>kettle sweet chilli and sour cream 175g</td>\n",
       "      <td>2</td>\n",
       "      <td>10.8</td>\n",
       "    </tr>\n",
       "    <tr>\n",
       "      <th>264832</th>\n",
       "      <td>2018-08-13</td>\n",
       "      <td>272</td>\n",
       "      <td>272358</td>\n",
       "      <td>270154</td>\n",
       "      <td>74</td>\n",
       "      <td>tostitos splash of  lime 175g</td>\n",
       "      <td>1</td>\n",
       "      <td>4.4</td>\n",
       "    </tr>\n",
       "    <tr>\n",
       "      <th>264833</th>\n",
       "      <td>2018-11-06</td>\n",
       "      <td>272</td>\n",
       "      <td>272379</td>\n",
       "      <td>270187</td>\n",
       "      <td>51</td>\n",
       "      <td>doritos mexicana    170g</td>\n",
       "      <td>2</td>\n",
       "      <td>8.8</td>\n",
       "    </tr>\n",
       "    <tr>\n",
       "      <th>264834</th>\n",
       "      <td>2018-12-27</td>\n",
       "      <td>272</td>\n",
       "      <td>272379</td>\n",
       "      <td>270188</td>\n",
       "      <td>42</td>\n",
       "      <td>doritos corn chips mexican jalapeno 150g</td>\n",
       "      <td>2</td>\n",
       "      <td>7.8</td>\n",
       "    </tr>\n",
       "    <tr>\n",
       "      <th>264835</th>\n",
       "      <td>2018-09-22</td>\n",
       "      <td>272</td>\n",
       "      <td>272380</td>\n",
       "      <td>270189</td>\n",
       "      <td>74</td>\n",
       "      <td>tostitos splash of  lime 175g</td>\n",
       "      <td>2</td>\n",
       "      <td>8.8</td>\n",
       "    </tr>\n",
       "  </tbody>\n",
       "</table>\n",
       "<p>246742 rows × 8 columns</p>\n",
       "</div>"
      ],
      "text/plain": [
       "             DATE  STORE_NBR  LYLTY_CARD_NBR  TXN_ID  PROD_NBR  \\\n",
       "0      2018-10-17          1            1000       1         5   \n",
       "1      2019-05-14          1            1307     348        66   \n",
       "2      2019-05-20          1            1343     383        61   \n",
       "3      2018-08-17          2            2373     974        69   \n",
       "4      2018-08-18          2            2426    1038       108   \n",
       "...           ...        ...             ...     ...       ...   \n",
       "264831 2019-03-09        272          272319  270088        89   \n",
       "264832 2018-08-13        272          272358  270154        74   \n",
       "264833 2018-11-06        272          272379  270187        51   \n",
       "264834 2018-12-27        272          272379  270188        42   \n",
       "264835 2018-09-22        272          272380  270189        74   \n",
       "\n",
       "                                       PROD_NAME  PROD_QTY  TOT_SALES  \n",
       "0        natural chips        compny seasalt175g         2        6.0  \n",
       "1                       ccs nacho cheese    175g         3        6.3  \n",
       "2         smiths crinkle cut  chips chicken 170g         2        2.9  \n",
       "3        smiths chips thinly  s/cream&onion 175g         5       15.0  \n",
       "4       kettle tortilla chpshny&jlpno chili 150g         3       13.8  \n",
       "...                                          ...       ...        ...  \n",
       "264831   kettle sweet chilli and sour cream 175g         2       10.8  \n",
       "264832             tostitos splash of  lime 175g         1        4.4  \n",
       "264833                  doritos mexicana    170g         2        8.8  \n",
       "264834  doritos corn chips mexican jalapeno 150g         2        7.8  \n",
       "264835             tostitos splash of  lime 175g         2        8.8  \n",
       "\n",
       "[246742 rows x 8 columns]"
      ]
     },
     "execution_count": 16,
     "metadata": {},
     "output_type": "execute_result"
    }
   ],
   "source": [
    "\n",
    "transaction_data\n"
   ]
  },
  {
   "cell_type": "code",
   "execution_count": 17,
   "id": "d223f0b5",
   "metadata": {},
   "outputs": [
    {
     "data": {
      "text/plain": [
       "chips       30\n",
       "smiths      15\n",
       "kettle      13\n",
       "crinkle     13\n",
       "cut         13\n",
       "salt        12\n",
       "cheese      12\n",
       "original    10\n",
       "rrd          8\n",
       "corn         8\n",
       "Name: count, dtype: int64"
      ]
     },
     "execution_count": 17,
     "metadata": {},
     "output_type": "execute_result"
    }
   ],
   "source": [
    "product_names= pd.Series(transaction_data['PROD_NAME'].unique())\n",
    "product_words= pd.Series(\" \".join(product_names).split(\" \"))\n",
    "product_words_clean = product_words[product_words.str.contains(\"[a-zA-Z]\", regex=True) & ~product_words.str.contains(r'\\d')]\n",
    "product_words_clean.reset_index()\n",
    "product_words_clean.value_counts().head(10)"
   ]
  },
  {
   "cell_type": "markdown",
   "id": "fcf30141",
   "metadata": {},
   "source": [
    "6- CHECK FOR OUTLIERS"
   ]
  },
  {
   "cell_type": "code",
   "execution_count": 18,
   "id": "f1262b71",
   "metadata": {},
   "outputs": [
    {
     "data": {
      "application/vnd.microsoft.datawrangler.viewer.v0+json": {
       "columns": [
        {
         "name": "index",
         "rawType": "object",
         "type": "string"
        },
        {
         "name": "DATE",
         "rawType": "object",
         "type": "unknown"
        },
        {
         "name": "STORE_NBR",
         "rawType": "float64",
         "type": "float"
        },
        {
         "name": "LYLTY_CARD_NBR",
         "rawType": "float64",
         "type": "float"
        },
        {
         "name": "TXN_ID",
         "rawType": "float64",
         "type": "float"
        },
        {
         "name": "PROD_NBR",
         "rawType": "float64",
         "type": "float"
        },
        {
         "name": "PROD_QTY",
         "rawType": "float64",
         "type": "float"
        },
        {
         "name": "TOT_SALES",
         "rawType": "float64",
         "type": "float"
        }
       ],
       "conversionMethod": "pd.DataFrame",
       "ref": "5585a8e2-9f42-4b5b-9192-cf305cef9044",
       "rows": [
        [
         "count",
         "246742",
         "246742.0",
         "246742.0",
         "246742.0",
         "246742.0",
         "246742.0",
         "246742.0"
        ],
        [
         "mean",
         "2018-12-30 01:19:01.211467520",
         "135.05109790793622",
         "135530.9849559459",
         "135131.0988481896",
         "56.351788507834094",
         "1.9080618621880345",
         "7.321322271846707"
        ],
        [
         "min",
         "2018-07-01 00:00:00",
         "1.0",
         "1000.0",
         "1.0",
         "1.0",
         "1.0",
         "1.7"
        ],
        [
         "25%",
         "2018-09-30 00:00:00",
         "70.0",
         "70015.0",
         "67569.25",
         "26.0",
         "2.0",
         "5.8"
        ],
        [
         "50%",
         "2018-12-30 00:00:00",
         "130.0",
         "130367.0",
         "135183.0",
         "53.0",
         "2.0",
         "7.4"
        ],
        [
         "75%",
         "2019-03-31 00:00:00",
         "203.0",
         "203084.0",
         "202653.75",
         "87.0",
         "2.0",
         "8.8"
        ],
        [
         "max",
         "2019-06-30 00:00:00",
         "272.0",
         "2373711.0",
         "2415841.0",
         "114.0",
         "200.0",
         "650.0"
        ],
        [
         "std",
         null,
         "76.78709597140556",
         "80715.28076528518",
         "78147.71769194187",
         "33.695427632432114",
         "0.6598311218596009",
         "3.0778278953923843"
        ]
       ],
       "shape": {
        "columns": 7,
        "rows": 8
       }
      },
      "text/html": [
       "<div>\n",
       "<style scoped>\n",
       "    .dataframe tbody tr th:only-of-type {\n",
       "        vertical-align: middle;\n",
       "    }\n",
       "\n",
       "    .dataframe tbody tr th {\n",
       "        vertical-align: top;\n",
       "    }\n",
       "\n",
       "    .dataframe thead th {\n",
       "        text-align: right;\n",
       "    }\n",
       "</style>\n",
       "<table border=\"1\" class=\"dataframe\">\n",
       "  <thead>\n",
       "    <tr style=\"text-align: right;\">\n",
       "      <th></th>\n",
       "      <th>DATE</th>\n",
       "      <th>STORE_NBR</th>\n",
       "      <th>LYLTY_CARD_NBR</th>\n",
       "      <th>TXN_ID</th>\n",
       "      <th>PROD_NBR</th>\n",
       "      <th>PROD_QTY</th>\n",
       "      <th>TOT_SALES</th>\n",
       "    </tr>\n",
       "  </thead>\n",
       "  <tbody>\n",
       "    <tr>\n",
       "      <th>count</th>\n",
       "      <td>246742</td>\n",
       "      <td>246742.000000</td>\n",
       "      <td>2.467420e+05</td>\n",
       "      <td>2.467420e+05</td>\n",
       "      <td>246742.000000</td>\n",
       "      <td>246742.000000</td>\n",
       "      <td>246742.000000</td>\n",
       "    </tr>\n",
       "    <tr>\n",
       "      <th>mean</th>\n",
       "      <td>2018-12-30 01:19:01.211467520</td>\n",
       "      <td>135.051098</td>\n",
       "      <td>1.355310e+05</td>\n",
       "      <td>1.351311e+05</td>\n",
       "      <td>56.351789</td>\n",
       "      <td>1.908062</td>\n",
       "      <td>7.321322</td>\n",
       "    </tr>\n",
       "    <tr>\n",
       "      <th>min</th>\n",
       "      <td>2018-07-01 00:00:00</td>\n",
       "      <td>1.000000</td>\n",
       "      <td>1.000000e+03</td>\n",
       "      <td>1.000000e+00</td>\n",
       "      <td>1.000000</td>\n",
       "      <td>1.000000</td>\n",
       "      <td>1.700000</td>\n",
       "    </tr>\n",
       "    <tr>\n",
       "      <th>25%</th>\n",
       "      <td>2018-09-30 00:00:00</td>\n",
       "      <td>70.000000</td>\n",
       "      <td>7.001500e+04</td>\n",
       "      <td>6.756925e+04</td>\n",
       "      <td>26.000000</td>\n",
       "      <td>2.000000</td>\n",
       "      <td>5.800000</td>\n",
       "    </tr>\n",
       "    <tr>\n",
       "      <th>50%</th>\n",
       "      <td>2018-12-30 00:00:00</td>\n",
       "      <td>130.000000</td>\n",
       "      <td>1.303670e+05</td>\n",
       "      <td>1.351830e+05</td>\n",
       "      <td>53.000000</td>\n",
       "      <td>2.000000</td>\n",
       "      <td>7.400000</td>\n",
       "    </tr>\n",
       "    <tr>\n",
       "      <th>75%</th>\n",
       "      <td>2019-03-31 00:00:00</td>\n",
       "      <td>203.000000</td>\n",
       "      <td>2.030840e+05</td>\n",
       "      <td>2.026538e+05</td>\n",
       "      <td>87.000000</td>\n",
       "      <td>2.000000</td>\n",
       "      <td>8.800000</td>\n",
       "    </tr>\n",
       "    <tr>\n",
       "      <th>max</th>\n",
       "      <td>2019-06-30 00:00:00</td>\n",
       "      <td>272.000000</td>\n",
       "      <td>2.373711e+06</td>\n",
       "      <td>2.415841e+06</td>\n",
       "      <td>114.000000</td>\n",
       "      <td>200.000000</td>\n",
       "      <td>650.000000</td>\n",
       "    </tr>\n",
       "    <tr>\n",
       "      <th>std</th>\n",
       "      <td>NaN</td>\n",
       "      <td>76.787096</td>\n",
       "      <td>8.071528e+04</td>\n",
       "      <td>7.814772e+04</td>\n",
       "      <td>33.695428</td>\n",
       "      <td>0.659831</td>\n",
       "      <td>3.077828</td>\n",
       "    </tr>\n",
       "  </tbody>\n",
       "</table>\n",
       "</div>"
      ],
      "text/plain": [
       "                                DATE      STORE_NBR  LYLTY_CARD_NBR  \\\n",
       "count                         246742  246742.000000    2.467420e+05   \n",
       "mean   2018-12-30 01:19:01.211467520     135.051098    1.355310e+05   \n",
       "min              2018-07-01 00:00:00       1.000000    1.000000e+03   \n",
       "25%              2018-09-30 00:00:00      70.000000    7.001500e+04   \n",
       "50%              2018-12-30 00:00:00     130.000000    1.303670e+05   \n",
       "75%              2019-03-31 00:00:00     203.000000    2.030840e+05   \n",
       "max              2019-06-30 00:00:00     272.000000    2.373711e+06   \n",
       "std                              NaN      76.787096    8.071528e+04   \n",
       "\n",
       "             TXN_ID       PROD_NBR       PROD_QTY      TOT_SALES  \n",
       "count  2.467420e+05  246742.000000  246742.000000  246742.000000  \n",
       "mean   1.351311e+05      56.351789       1.908062       7.321322  \n",
       "min    1.000000e+00       1.000000       1.000000       1.700000  \n",
       "25%    6.756925e+04      26.000000       2.000000       5.800000  \n",
       "50%    1.351830e+05      53.000000       2.000000       7.400000  \n",
       "75%    2.026538e+05      87.000000       2.000000       8.800000  \n",
       "max    2.415841e+06     114.000000     200.000000     650.000000  \n",
       "std    7.814772e+04      33.695428       0.659831       3.077828  "
      ]
     },
     "execution_count": 18,
     "metadata": {},
     "output_type": "execute_result"
    }
   ],
   "source": [
    "transaction_data.describe()"
   ]
  },
  {
   "cell_type": "code",
   "execution_count": 19,
   "id": "3f9f76ed",
   "metadata": {},
   "outputs": [
    {
     "data": {
      "application/vnd.microsoft.datawrangler.viewer.v0+json": {
       "columns": [
        {
         "name": "index",
         "rawType": "int64",
         "type": "integer"
        },
        {
         "name": "DATE",
         "rawType": "datetime64[ns]",
         "type": "datetime"
        },
        {
         "name": "STORE_NBR",
         "rawType": "int64",
         "type": "integer"
        },
        {
         "name": "LYLTY_CARD_NBR",
         "rawType": "int64",
         "type": "integer"
        },
        {
         "name": "TXN_ID",
         "rawType": "int64",
         "type": "integer"
        },
        {
         "name": "PROD_NBR",
         "rawType": "int64",
         "type": "integer"
        },
        {
         "name": "PROD_NAME",
         "rawType": "object",
         "type": "string"
        },
        {
         "name": "PROD_QTY",
         "rawType": "int64",
         "type": "integer"
        },
        {
         "name": "TOT_SALES",
         "rawType": "float64",
         "type": "float"
        }
       ],
       "conversionMethod": "pd.DataFrame",
       "ref": "4c23a664-8430-4a1d-a1ce-433c312cea2b",
       "rows": [
        [
         "0",
         "2018-10-17 00:00:00",
         "1",
         "1000",
         "1",
         "5",
         "natural chips        compny seasalt175g",
         "2",
         "6.0"
        ],
        [
         "1",
         "2019-05-14 00:00:00",
         "1",
         "1307",
         "348",
         "66",
         "ccs nacho cheese    175g",
         "3",
         "6.3"
        ],
        [
         "2",
         "2019-05-20 00:00:00",
         "1",
         "1343",
         "383",
         "61",
         "smiths crinkle cut  chips chicken 170g",
         "2",
         "2.9"
        ],
        [
         "3",
         "2018-08-17 00:00:00",
         "2",
         "2373",
         "974",
         "69",
         "smiths chips thinly  s/cream&onion 175g",
         "5",
         "15.0"
        ],
        [
         "4",
         "2018-08-18 00:00:00",
         "2",
         "2426",
         "1038",
         "108",
         "kettle tortilla chpshny&jlpno chili 150g",
         "3",
         "13.8"
        ],
        [
         "6",
         "2019-05-16 00:00:00",
         "4",
         "4149",
         "3333",
         "16",
         "smiths crinkle chips salt & vinegar 330g",
         "1",
         "5.7"
        ],
        [
         "7",
         "2019-05-16 00:00:00",
         "4",
         "4196",
         "3539",
         "24",
         "grain waves         sweet chilli 210g",
         "1",
         "3.6"
        ],
        [
         "8",
         "2018-08-20 00:00:00",
         "5",
         "5026",
         "4525",
         "42",
         "doritos corn chips mexican jalapeno 150g",
         "1",
         "3.9"
        ],
        [
         "9",
         "2018-08-18 00:00:00",
         "7",
         "7150",
         "6900",
         "52",
         "grain waves sour    cream&chives 210g",
         "2",
         "7.2"
        ],
        [
         "10",
         "2019-05-17 00:00:00",
         "7",
         "7215",
         "7176",
         "16",
         "smiths crinkle chips salt & vinegar 330g",
         "1",
         "5.7"
        ],
        [
         "11",
         "2018-08-20 00:00:00",
         "8",
         "8294",
         "8221",
         "114",
         "kettle sensations   siracha lime 150g",
         "5",
         "23.0"
        ],
        [
         "12",
         "2019-05-18 00:00:00",
         "9",
         "9208",
         "8634",
         "15",
         "twisties cheese     270g",
         "2",
         "9.2"
        ],
        [
         "13",
         "2018-08-17 00:00:00",
         "13",
         "13213",
         "12447",
         "92",
         "ww crinkle cut      chicken 175g",
         "1",
         "1.7"
        ],
        [
         "14",
         "2019-05-15 00:00:00",
         "19",
         "19272",
         "16686",
         "44",
         "thins chips light&  tangy 175g",
         "1",
         "3.3"
        ],
        [
         "15",
         "2019-05-19 00:00:00",
         "20",
         "20164",
         "17136",
         "54",
         "ccs original 175g",
         "1",
         "2.1"
        ],
        [
         "16",
         "2018-08-18 00:00:00",
         "20",
         "20418",
         "17413",
         "94",
         "burger rings 220g",
         "4",
         "9.2"
        ],
        [
         "17",
         "2018-08-14 00:00:00",
         "22",
         "22411",
         "18646",
         "98",
         "ncc sour cream &    garden chives 175g",
         "1",
         "3.0"
        ],
        [
         "18",
         "2018-08-17 00:00:00",
         "22",
         "22456",
         "18696",
         "93",
         "doritos corn chips southern chicken 150g",
         "1",
         "3.9"
        ],
        [
         "19",
         "2019-05-16 00:00:00",
         "23",
         "23067",
         "19162",
         "56",
         "cheezels cheese box 125g",
         "1",
         "2.1"
        ],
        [
         "20",
         "2019-05-19 00:00:00",
         "25",
         "25105",
         "21815",
         "7",
         "smiths crinkle      original 330g",
         "1",
         "5.7"
        ],
        [
         "21",
         "2018-08-16 00:00:00",
         "33",
         "33081",
         "29949",
         "98",
         "ncc sour cream &    garden chives 175g",
         "1",
         "3.0"
        ],
        [
         "22",
         "2018-08-16 00:00:00",
         "36",
         "36012",
         "32077",
         "31",
         "infzns crn crnchers tangy gcamole 110g",
         "1",
         "3.8"
        ],
        [
         "23",
         "2018-08-19 00:00:00",
         "36",
         "36302",
         "33188",
         "32",
         "kettle sea salt     and vinegar 175g",
         "1",
         "5.4"
        ],
        [
         "24",
         "2018-08-15 00:00:00",
         "38",
         "38142",
         "34181",
         "108",
         "kettle tortilla chpshny&jlpno chili 150g",
         "2",
         "9.2"
        ],
        [
         "26",
         "2018-08-19 00:00:00",
         "39",
         "39167",
         "35638",
         "111",
         "smiths chips thinly  cut original 175g",
         "2",
         "6.0"
        ],
        [
         "27",
         "2019-05-15 00:00:00",
         "41",
         "41423",
         "38393",
         "46",
         "kettle original 175g",
         "1",
         "5.4"
        ],
        [
         "28",
         "2018-08-15 00:00:00",
         "41",
         "41486",
         "38472",
         "13",
         "red rock deli thai  chilli&lime 150g",
         "1",
         "2.7"
        ],
        [
         "29",
         "2019-05-20 00:00:00",
         "43",
         "43110",
         "39342",
         "31",
         "infzns crn crnchers tangy gcamole 110g",
         "1",
         "3.8"
        ],
        [
         "30",
         "2019-05-16 00:00:00",
         "43",
         "43147",
         "39608",
         "99",
         "pringles sthrn friedchicken 134g",
         "1",
         "3.7"
        ],
        [
         "31",
         "2019-05-15 00:00:00",
         "43",
         "43227",
         "40186",
         "26",
         "pringles sweet&spcy bbq 134g",
         "4",
         "14.8"
        ],
        [
         "33",
         "2019-05-18 00:00:00",
         "45",
         "45220",
         "41651",
         "22",
         "thins chips         originl saltd 175g",
         "1",
         "3.3"
        ],
        [
         "34",
         "2018-08-16 00:00:00",
         "51",
         "51100",
         "46802",
         "48",
         "red rock deli sp    salt & truffle 150g",
         "1",
         "2.7"
        ],
        [
         "35",
         "2018-08-19 00:00:00",
         "51",
         "51100",
         "46803",
         "37",
         "smiths thinly       swt chli&s/cream175g",
         "1",
         "3.0"
        ],
        [
         "36",
         "2018-08-18 00:00:00",
         "51",
         "51113",
         "46828",
         "36",
         "kettle chilli 175g",
         "1",
         "5.4"
        ],
        [
         "37",
         "2018-08-17 00:00:00",
         "54",
         "54226",
         "48173",
         "51",
         "doritos mexicana    170g",
         "1",
         "4.4"
        ],
        [
         "38",
         "2018-08-18 00:00:00",
         "54",
         "54305",
         "48301",
         "44",
         "thins chips light&  tangy 175g",
         "2",
         "6.6"
        ],
        [
         "39",
         "2018-08-18 00:00:00",
         "55",
         "55072",
         "48878",
         "107",
         "smiths crinkle cut  french oniondip 150g",
         "1",
         "2.6"
        ],
        [
         "40",
         "2019-05-14 00:00:00",
         "55",
         "55072",
         "48883",
         "106",
         "natural chipco      hony soy chckn175g",
         "1",
         "3.0"
        ],
        [
         "41",
         "2019-05-20 00:00:00",
         "55",
         "55073",
         "48887",
         "4",
         "dorito corn chp     supreme 380g",
         "1",
         "3.25"
        ],
        [
         "42",
         "2019-05-20 00:00:00",
         "55",
         "55073",
         "48887",
         "113",
         "twisties chicken270g",
         "1",
         "4.6"
        ],
        [
         "43",
         "2019-05-16 00:00:00",
         "55",
         "55202",
         "49690",
         "45",
         "smiths thinly cut   roast chicken 175g",
         "1",
         "3.0"
        ],
        [
         "45",
         "2019-05-16 00:00:00",
         "58",
         "58324",
         "54252",
         "102",
         "kettle mozzarella   basil & pesto 175g",
         "1",
         "5.4"
        ],
        [
         "46",
         "2019-05-16 00:00:00",
         "59",
         "59344",
         "56007",
         "31",
         "infzns crn crnchers tangy gcamole 110g",
         "1",
         "3.8"
        ],
        [
         "47",
         "2018-08-16 00:00:00",
         "60",
         "60038",
         "56304",
         "104",
         "infuzions thai sweetchili potatomix 110g",
         "1",
         "3.8"
        ],
        [
         "48",
         "2019-05-15 00:00:00",
         "60",
         "60162",
         "56825",
         "7",
         "smiths crinkle      original 330g",
         "1",
         "5.7"
        ],
        [
         "49",
         "2019-05-14 00:00:00",
         "62",
         "62177",
         "58848",
         "3",
         "kettle sensations   camembert & fig 150g",
         "1",
         "4.6"
        ],
        [
         "50",
         "2019-05-20 00:00:00",
         "63",
         "63201",
         "60709",
         "82",
         "smith crinkle cut   mac n cheese 150g",
         "1",
         "2.6"
        ],
        [
         "51",
         "2018-08-20 00:00:00",
         "67",
         "67053",
         "64137",
         "88",
         "kettle honey soy    chicken 175g",
         "1",
         "5.4"
        ],
        [
         "52",
         "2019-05-20 00:00:00",
         "71",
         "71122",
         "69717",
         "40",
         "thins chips seasonedchicken 175g",
         "1",
         "3.3"
        ],
        [
         "53",
         "2019-05-19 00:00:00",
         "71",
         "71212",
         "70337",
         "73",
         "smiths crinkle cut  salt & vinegar 170g",
         "2",
         "5.8"
        ]
       ],
       "shape": {
        "columns": 8,
        "rows": 246742
       }
      },
      "text/html": [
       "<div>\n",
       "<style scoped>\n",
       "    .dataframe tbody tr th:only-of-type {\n",
       "        vertical-align: middle;\n",
       "    }\n",
       "\n",
       "    .dataframe tbody tr th {\n",
       "        vertical-align: top;\n",
       "    }\n",
       "\n",
       "    .dataframe thead th {\n",
       "        text-align: right;\n",
       "    }\n",
       "</style>\n",
       "<table border=\"1\" class=\"dataframe\">\n",
       "  <thead>\n",
       "    <tr style=\"text-align: right;\">\n",
       "      <th></th>\n",
       "      <th>DATE</th>\n",
       "      <th>STORE_NBR</th>\n",
       "      <th>LYLTY_CARD_NBR</th>\n",
       "      <th>TXN_ID</th>\n",
       "      <th>PROD_NBR</th>\n",
       "      <th>PROD_NAME</th>\n",
       "      <th>PROD_QTY</th>\n",
       "      <th>TOT_SALES</th>\n",
       "    </tr>\n",
       "  </thead>\n",
       "  <tbody>\n",
       "    <tr>\n",
       "      <th>0</th>\n",
       "      <td>2018-10-17</td>\n",
       "      <td>1</td>\n",
       "      <td>1000</td>\n",
       "      <td>1</td>\n",
       "      <td>5</td>\n",
       "      <td>natural chips        compny seasalt175g</td>\n",
       "      <td>2</td>\n",
       "      <td>6.0</td>\n",
       "    </tr>\n",
       "    <tr>\n",
       "      <th>1</th>\n",
       "      <td>2019-05-14</td>\n",
       "      <td>1</td>\n",
       "      <td>1307</td>\n",
       "      <td>348</td>\n",
       "      <td>66</td>\n",
       "      <td>ccs nacho cheese    175g</td>\n",
       "      <td>3</td>\n",
       "      <td>6.3</td>\n",
       "    </tr>\n",
       "    <tr>\n",
       "      <th>2</th>\n",
       "      <td>2019-05-20</td>\n",
       "      <td>1</td>\n",
       "      <td>1343</td>\n",
       "      <td>383</td>\n",
       "      <td>61</td>\n",
       "      <td>smiths crinkle cut  chips chicken 170g</td>\n",
       "      <td>2</td>\n",
       "      <td>2.9</td>\n",
       "    </tr>\n",
       "    <tr>\n",
       "      <th>3</th>\n",
       "      <td>2018-08-17</td>\n",
       "      <td>2</td>\n",
       "      <td>2373</td>\n",
       "      <td>974</td>\n",
       "      <td>69</td>\n",
       "      <td>smiths chips thinly  s/cream&amp;onion 175g</td>\n",
       "      <td>5</td>\n",
       "      <td>15.0</td>\n",
       "    </tr>\n",
       "    <tr>\n",
       "      <th>4</th>\n",
       "      <td>2018-08-18</td>\n",
       "      <td>2</td>\n",
       "      <td>2426</td>\n",
       "      <td>1038</td>\n",
       "      <td>108</td>\n",
       "      <td>kettle tortilla chpshny&amp;jlpno chili 150g</td>\n",
       "      <td>3</td>\n",
       "      <td>13.8</td>\n",
       "    </tr>\n",
       "    <tr>\n",
       "      <th>...</th>\n",
       "      <td>...</td>\n",
       "      <td>...</td>\n",
       "      <td>...</td>\n",
       "      <td>...</td>\n",
       "      <td>...</td>\n",
       "      <td>...</td>\n",
       "      <td>...</td>\n",
       "      <td>...</td>\n",
       "    </tr>\n",
       "    <tr>\n",
       "      <th>264831</th>\n",
       "      <td>2019-03-09</td>\n",
       "      <td>272</td>\n",
       "      <td>272319</td>\n",
       "      <td>270088</td>\n",
       "      <td>89</td>\n",
       "      <td>kettle sweet chilli and sour cream 175g</td>\n",
       "      <td>2</td>\n",
       "      <td>10.8</td>\n",
       "    </tr>\n",
       "    <tr>\n",
       "      <th>264832</th>\n",
       "      <td>2018-08-13</td>\n",
       "      <td>272</td>\n",
       "      <td>272358</td>\n",
       "      <td>270154</td>\n",
       "      <td>74</td>\n",
       "      <td>tostitos splash of  lime 175g</td>\n",
       "      <td>1</td>\n",
       "      <td>4.4</td>\n",
       "    </tr>\n",
       "    <tr>\n",
       "      <th>264833</th>\n",
       "      <td>2018-11-06</td>\n",
       "      <td>272</td>\n",
       "      <td>272379</td>\n",
       "      <td>270187</td>\n",
       "      <td>51</td>\n",
       "      <td>doritos mexicana    170g</td>\n",
       "      <td>2</td>\n",
       "      <td>8.8</td>\n",
       "    </tr>\n",
       "    <tr>\n",
       "      <th>264834</th>\n",
       "      <td>2018-12-27</td>\n",
       "      <td>272</td>\n",
       "      <td>272379</td>\n",
       "      <td>270188</td>\n",
       "      <td>42</td>\n",
       "      <td>doritos corn chips mexican jalapeno 150g</td>\n",
       "      <td>2</td>\n",
       "      <td>7.8</td>\n",
       "    </tr>\n",
       "    <tr>\n",
       "      <th>264835</th>\n",
       "      <td>2018-09-22</td>\n",
       "      <td>272</td>\n",
       "      <td>272380</td>\n",
       "      <td>270189</td>\n",
       "      <td>74</td>\n",
       "      <td>tostitos splash of  lime 175g</td>\n",
       "      <td>2</td>\n",
       "      <td>8.8</td>\n",
       "    </tr>\n",
       "  </tbody>\n",
       "</table>\n",
       "<p>246742 rows × 8 columns</p>\n",
       "</div>"
      ],
      "text/plain": [
       "             DATE  STORE_NBR  LYLTY_CARD_NBR  TXN_ID  PROD_NBR  \\\n",
       "0      2018-10-17          1            1000       1         5   \n",
       "1      2019-05-14          1            1307     348        66   \n",
       "2      2019-05-20          1            1343     383        61   \n",
       "3      2018-08-17          2            2373     974        69   \n",
       "4      2018-08-18          2            2426    1038       108   \n",
       "...           ...        ...             ...     ...       ...   \n",
       "264831 2019-03-09        272          272319  270088        89   \n",
       "264832 2018-08-13        272          272358  270154        74   \n",
       "264833 2018-11-06        272          272379  270187        51   \n",
       "264834 2018-12-27        272          272379  270188        42   \n",
       "264835 2018-09-22        272          272380  270189        74   \n",
       "\n",
       "                                       PROD_NAME  PROD_QTY  TOT_SALES  \n",
       "0        natural chips        compny seasalt175g         2        6.0  \n",
       "1                       ccs nacho cheese    175g         3        6.3  \n",
       "2         smiths crinkle cut  chips chicken 170g         2        2.9  \n",
       "3        smiths chips thinly  s/cream&onion 175g         5       15.0  \n",
       "4       kettle tortilla chpshny&jlpno chili 150g         3       13.8  \n",
       "...                                          ...       ...        ...  \n",
       "264831   kettle sweet chilli and sour cream 175g         2       10.8  \n",
       "264832             tostitos splash of  lime 175g         1        4.4  \n",
       "264833                  doritos mexicana    170g         2        8.8  \n",
       "264834  doritos corn chips mexican jalapeno 150g         2        7.8  \n",
       "264835             tostitos splash of  lime 175g         2        8.8  \n",
       "\n",
       "[246742 rows x 8 columns]"
      ]
     },
     "execution_count": 19,
     "metadata": {},
     "output_type": "execute_result"
    }
   ],
   "source": [
    "transaction_data # use the link below to open data wrangler in vs code\n",
    "# open data wrangler to discover outliers. after observing the prod_qty column, we sort it descending and\n",
    "# we see that there is just one customer had 200 umber of products and we see his loyalty number is 226000\n",
    "# So we Remove outliers as that customer's transactions"
   ]
  },
  {
   "cell_type": "code",
   "execution_count": 20,
   "id": "df6bf5f3",
   "metadata": {},
   "outputs": [],
   "source": [
    "\n",
    "transaction_data = transaction_data[transaction_data['LYLTY_CARD_NBR'] != 226000]\n"
   ]
  },
  {
   "cell_type": "code",
   "execution_count": 21,
   "id": "339aae2e",
   "metadata": {},
   "outputs": [
    {
     "data": {
      "application/vnd.microsoft.datawrangler.viewer.v0+json": {
       "columns": [
        {
         "name": "index",
         "rawType": "int64",
         "type": "integer"
        },
        {
         "name": "DATE",
         "rawType": "datetime64[ns]",
         "type": "datetime"
        },
        {
         "name": "STORE_NBR",
         "rawType": "int64",
         "type": "integer"
        },
        {
         "name": "LYLTY_CARD_NBR",
         "rawType": "int64",
         "type": "integer"
        },
        {
         "name": "TXN_ID",
         "rawType": "int64",
         "type": "integer"
        },
        {
         "name": "PROD_NBR",
         "rawType": "int64",
         "type": "integer"
        },
        {
         "name": "PROD_NAME",
         "rawType": "object",
         "type": "string"
        },
        {
         "name": "PROD_QTY",
         "rawType": "int64",
         "type": "integer"
        },
        {
         "name": "TOT_SALES",
         "rawType": "float64",
         "type": "float"
        }
       ],
       "conversionMethod": "pd.DataFrame",
       "ref": "3b60eb13-b7c3-4830-8328-54eedf518928",
       "rows": [
        [
         "0",
         "2018-10-17 00:00:00",
         "1",
         "1000",
         "1",
         "5",
         "natural chips        compny seasalt175g",
         "2",
         "6.0"
        ],
        [
         "1",
         "2019-05-14 00:00:00",
         "1",
         "1307",
         "348",
         "66",
         "ccs nacho cheese    175g",
         "3",
         "6.3"
        ],
        [
         "2",
         "2019-05-20 00:00:00",
         "1",
         "1343",
         "383",
         "61",
         "smiths crinkle cut  chips chicken 170g",
         "2",
         "2.9"
        ],
        [
         "3",
         "2018-08-17 00:00:00",
         "2",
         "2373",
         "974",
         "69",
         "smiths chips thinly  s/cream&onion 175g",
         "5",
         "15.0"
        ],
        [
         "4",
         "2018-08-18 00:00:00",
         "2",
         "2426",
         "1038",
         "108",
         "kettle tortilla chpshny&jlpno chili 150g",
         "3",
         "13.8"
        ],
        [
         "6",
         "2019-05-16 00:00:00",
         "4",
         "4149",
         "3333",
         "16",
         "smiths crinkle chips salt & vinegar 330g",
         "1",
         "5.7"
        ],
        [
         "7",
         "2019-05-16 00:00:00",
         "4",
         "4196",
         "3539",
         "24",
         "grain waves         sweet chilli 210g",
         "1",
         "3.6"
        ],
        [
         "8",
         "2018-08-20 00:00:00",
         "5",
         "5026",
         "4525",
         "42",
         "doritos corn chips mexican jalapeno 150g",
         "1",
         "3.9"
        ],
        [
         "9",
         "2018-08-18 00:00:00",
         "7",
         "7150",
         "6900",
         "52",
         "grain waves sour    cream&chives 210g",
         "2",
         "7.2"
        ],
        [
         "10",
         "2019-05-17 00:00:00",
         "7",
         "7215",
         "7176",
         "16",
         "smiths crinkle chips salt & vinegar 330g",
         "1",
         "5.7"
        ],
        [
         "11",
         "2018-08-20 00:00:00",
         "8",
         "8294",
         "8221",
         "114",
         "kettle sensations   siracha lime 150g",
         "5",
         "23.0"
        ],
        [
         "12",
         "2019-05-18 00:00:00",
         "9",
         "9208",
         "8634",
         "15",
         "twisties cheese     270g",
         "2",
         "9.2"
        ],
        [
         "13",
         "2018-08-17 00:00:00",
         "13",
         "13213",
         "12447",
         "92",
         "ww crinkle cut      chicken 175g",
         "1",
         "1.7"
        ],
        [
         "14",
         "2019-05-15 00:00:00",
         "19",
         "19272",
         "16686",
         "44",
         "thins chips light&  tangy 175g",
         "1",
         "3.3"
        ],
        [
         "15",
         "2019-05-19 00:00:00",
         "20",
         "20164",
         "17136",
         "54",
         "ccs original 175g",
         "1",
         "2.1"
        ],
        [
         "16",
         "2018-08-18 00:00:00",
         "20",
         "20418",
         "17413",
         "94",
         "burger rings 220g",
         "4",
         "9.2"
        ],
        [
         "17",
         "2018-08-14 00:00:00",
         "22",
         "22411",
         "18646",
         "98",
         "ncc sour cream &    garden chives 175g",
         "1",
         "3.0"
        ],
        [
         "18",
         "2018-08-17 00:00:00",
         "22",
         "22456",
         "18696",
         "93",
         "doritos corn chips southern chicken 150g",
         "1",
         "3.9"
        ],
        [
         "19",
         "2019-05-16 00:00:00",
         "23",
         "23067",
         "19162",
         "56",
         "cheezels cheese box 125g",
         "1",
         "2.1"
        ],
        [
         "20",
         "2019-05-19 00:00:00",
         "25",
         "25105",
         "21815",
         "7",
         "smiths crinkle      original 330g",
         "1",
         "5.7"
        ],
        [
         "21",
         "2018-08-16 00:00:00",
         "33",
         "33081",
         "29949",
         "98",
         "ncc sour cream &    garden chives 175g",
         "1",
         "3.0"
        ],
        [
         "22",
         "2018-08-16 00:00:00",
         "36",
         "36012",
         "32077",
         "31",
         "infzns crn crnchers tangy gcamole 110g",
         "1",
         "3.8"
        ],
        [
         "23",
         "2018-08-19 00:00:00",
         "36",
         "36302",
         "33188",
         "32",
         "kettle sea salt     and vinegar 175g",
         "1",
         "5.4"
        ],
        [
         "24",
         "2018-08-15 00:00:00",
         "38",
         "38142",
         "34181",
         "108",
         "kettle tortilla chpshny&jlpno chili 150g",
         "2",
         "9.2"
        ],
        [
         "26",
         "2018-08-19 00:00:00",
         "39",
         "39167",
         "35638",
         "111",
         "smiths chips thinly  cut original 175g",
         "2",
         "6.0"
        ],
        [
         "27",
         "2019-05-15 00:00:00",
         "41",
         "41423",
         "38393",
         "46",
         "kettle original 175g",
         "1",
         "5.4"
        ],
        [
         "28",
         "2018-08-15 00:00:00",
         "41",
         "41486",
         "38472",
         "13",
         "red rock deli thai  chilli&lime 150g",
         "1",
         "2.7"
        ],
        [
         "29",
         "2019-05-20 00:00:00",
         "43",
         "43110",
         "39342",
         "31",
         "infzns crn crnchers tangy gcamole 110g",
         "1",
         "3.8"
        ],
        [
         "30",
         "2019-05-16 00:00:00",
         "43",
         "43147",
         "39608",
         "99",
         "pringles sthrn friedchicken 134g",
         "1",
         "3.7"
        ],
        [
         "31",
         "2019-05-15 00:00:00",
         "43",
         "43227",
         "40186",
         "26",
         "pringles sweet&spcy bbq 134g",
         "4",
         "14.8"
        ],
        [
         "33",
         "2019-05-18 00:00:00",
         "45",
         "45220",
         "41651",
         "22",
         "thins chips         originl saltd 175g",
         "1",
         "3.3"
        ],
        [
         "34",
         "2018-08-16 00:00:00",
         "51",
         "51100",
         "46802",
         "48",
         "red rock deli sp    salt & truffle 150g",
         "1",
         "2.7"
        ],
        [
         "35",
         "2018-08-19 00:00:00",
         "51",
         "51100",
         "46803",
         "37",
         "smiths thinly       swt chli&s/cream175g",
         "1",
         "3.0"
        ],
        [
         "36",
         "2018-08-18 00:00:00",
         "51",
         "51113",
         "46828",
         "36",
         "kettle chilli 175g",
         "1",
         "5.4"
        ],
        [
         "37",
         "2018-08-17 00:00:00",
         "54",
         "54226",
         "48173",
         "51",
         "doritos mexicana    170g",
         "1",
         "4.4"
        ],
        [
         "38",
         "2018-08-18 00:00:00",
         "54",
         "54305",
         "48301",
         "44",
         "thins chips light&  tangy 175g",
         "2",
         "6.6"
        ],
        [
         "39",
         "2018-08-18 00:00:00",
         "55",
         "55072",
         "48878",
         "107",
         "smiths crinkle cut  french oniondip 150g",
         "1",
         "2.6"
        ],
        [
         "40",
         "2019-05-14 00:00:00",
         "55",
         "55072",
         "48883",
         "106",
         "natural chipco      hony soy chckn175g",
         "1",
         "3.0"
        ],
        [
         "41",
         "2019-05-20 00:00:00",
         "55",
         "55073",
         "48887",
         "4",
         "dorito corn chp     supreme 380g",
         "1",
         "3.25"
        ],
        [
         "42",
         "2019-05-20 00:00:00",
         "55",
         "55073",
         "48887",
         "113",
         "twisties chicken270g",
         "1",
         "4.6"
        ],
        [
         "43",
         "2019-05-16 00:00:00",
         "55",
         "55202",
         "49690",
         "45",
         "smiths thinly cut   roast chicken 175g",
         "1",
         "3.0"
        ],
        [
         "45",
         "2019-05-16 00:00:00",
         "58",
         "58324",
         "54252",
         "102",
         "kettle mozzarella   basil & pesto 175g",
         "1",
         "5.4"
        ],
        [
         "46",
         "2019-05-16 00:00:00",
         "59",
         "59344",
         "56007",
         "31",
         "infzns crn crnchers tangy gcamole 110g",
         "1",
         "3.8"
        ],
        [
         "47",
         "2018-08-16 00:00:00",
         "60",
         "60038",
         "56304",
         "104",
         "infuzions thai sweetchili potatomix 110g",
         "1",
         "3.8"
        ],
        [
         "48",
         "2019-05-15 00:00:00",
         "60",
         "60162",
         "56825",
         "7",
         "smiths crinkle      original 330g",
         "1",
         "5.7"
        ],
        [
         "49",
         "2019-05-14 00:00:00",
         "62",
         "62177",
         "58848",
         "3",
         "kettle sensations   camembert & fig 150g",
         "1",
         "4.6"
        ],
        [
         "50",
         "2019-05-20 00:00:00",
         "63",
         "63201",
         "60709",
         "82",
         "smith crinkle cut   mac n cheese 150g",
         "1",
         "2.6"
        ],
        [
         "51",
         "2018-08-20 00:00:00",
         "67",
         "67053",
         "64137",
         "88",
         "kettle honey soy    chicken 175g",
         "1",
         "5.4"
        ],
        [
         "52",
         "2019-05-20 00:00:00",
         "71",
         "71122",
         "69717",
         "40",
         "thins chips seasonedchicken 175g",
         "1",
         "3.3"
        ],
        [
         "53",
         "2019-05-19 00:00:00",
         "71",
         "71212",
         "70337",
         "73",
         "smiths crinkle cut  salt & vinegar 170g",
         "2",
         "5.8"
        ]
       ],
       "shape": {
        "columns": 8,
        "rows": 246740
       }
      },
      "text/html": [
       "<div>\n",
       "<style scoped>\n",
       "    .dataframe tbody tr th:only-of-type {\n",
       "        vertical-align: middle;\n",
       "    }\n",
       "\n",
       "    .dataframe tbody tr th {\n",
       "        vertical-align: top;\n",
       "    }\n",
       "\n",
       "    .dataframe thead th {\n",
       "        text-align: right;\n",
       "    }\n",
       "</style>\n",
       "<table border=\"1\" class=\"dataframe\">\n",
       "  <thead>\n",
       "    <tr style=\"text-align: right;\">\n",
       "      <th></th>\n",
       "      <th>DATE</th>\n",
       "      <th>STORE_NBR</th>\n",
       "      <th>LYLTY_CARD_NBR</th>\n",
       "      <th>TXN_ID</th>\n",
       "      <th>PROD_NBR</th>\n",
       "      <th>PROD_NAME</th>\n",
       "      <th>PROD_QTY</th>\n",
       "      <th>TOT_SALES</th>\n",
       "    </tr>\n",
       "  </thead>\n",
       "  <tbody>\n",
       "    <tr>\n",
       "      <th>0</th>\n",
       "      <td>2018-10-17</td>\n",
       "      <td>1</td>\n",
       "      <td>1000</td>\n",
       "      <td>1</td>\n",
       "      <td>5</td>\n",
       "      <td>natural chips        compny seasalt175g</td>\n",
       "      <td>2</td>\n",
       "      <td>6.0</td>\n",
       "    </tr>\n",
       "    <tr>\n",
       "      <th>1</th>\n",
       "      <td>2019-05-14</td>\n",
       "      <td>1</td>\n",
       "      <td>1307</td>\n",
       "      <td>348</td>\n",
       "      <td>66</td>\n",
       "      <td>ccs nacho cheese    175g</td>\n",
       "      <td>3</td>\n",
       "      <td>6.3</td>\n",
       "    </tr>\n",
       "    <tr>\n",
       "      <th>2</th>\n",
       "      <td>2019-05-20</td>\n",
       "      <td>1</td>\n",
       "      <td>1343</td>\n",
       "      <td>383</td>\n",
       "      <td>61</td>\n",
       "      <td>smiths crinkle cut  chips chicken 170g</td>\n",
       "      <td>2</td>\n",
       "      <td>2.9</td>\n",
       "    </tr>\n",
       "    <tr>\n",
       "      <th>3</th>\n",
       "      <td>2018-08-17</td>\n",
       "      <td>2</td>\n",
       "      <td>2373</td>\n",
       "      <td>974</td>\n",
       "      <td>69</td>\n",
       "      <td>smiths chips thinly  s/cream&amp;onion 175g</td>\n",
       "      <td>5</td>\n",
       "      <td>15.0</td>\n",
       "    </tr>\n",
       "    <tr>\n",
       "      <th>4</th>\n",
       "      <td>2018-08-18</td>\n",
       "      <td>2</td>\n",
       "      <td>2426</td>\n",
       "      <td>1038</td>\n",
       "      <td>108</td>\n",
       "      <td>kettle tortilla chpshny&amp;jlpno chili 150g</td>\n",
       "      <td>3</td>\n",
       "      <td>13.8</td>\n",
       "    </tr>\n",
       "    <tr>\n",
       "      <th>...</th>\n",
       "      <td>...</td>\n",
       "      <td>...</td>\n",
       "      <td>...</td>\n",
       "      <td>...</td>\n",
       "      <td>...</td>\n",
       "      <td>...</td>\n",
       "      <td>...</td>\n",
       "      <td>...</td>\n",
       "    </tr>\n",
       "    <tr>\n",
       "      <th>264831</th>\n",
       "      <td>2019-03-09</td>\n",
       "      <td>272</td>\n",
       "      <td>272319</td>\n",
       "      <td>270088</td>\n",
       "      <td>89</td>\n",
       "      <td>kettle sweet chilli and sour cream 175g</td>\n",
       "      <td>2</td>\n",
       "      <td>10.8</td>\n",
       "    </tr>\n",
       "    <tr>\n",
       "      <th>264832</th>\n",
       "      <td>2018-08-13</td>\n",
       "      <td>272</td>\n",
       "      <td>272358</td>\n",
       "      <td>270154</td>\n",
       "      <td>74</td>\n",
       "      <td>tostitos splash of  lime 175g</td>\n",
       "      <td>1</td>\n",
       "      <td>4.4</td>\n",
       "    </tr>\n",
       "    <tr>\n",
       "      <th>264833</th>\n",
       "      <td>2018-11-06</td>\n",
       "      <td>272</td>\n",
       "      <td>272379</td>\n",
       "      <td>270187</td>\n",
       "      <td>51</td>\n",
       "      <td>doritos mexicana    170g</td>\n",
       "      <td>2</td>\n",
       "      <td>8.8</td>\n",
       "    </tr>\n",
       "    <tr>\n",
       "      <th>264834</th>\n",
       "      <td>2018-12-27</td>\n",
       "      <td>272</td>\n",
       "      <td>272379</td>\n",
       "      <td>270188</td>\n",
       "      <td>42</td>\n",
       "      <td>doritos corn chips mexican jalapeno 150g</td>\n",
       "      <td>2</td>\n",
       "      <td>7.8</td>\n",
       "    </tr>\n",
       "    <tr>\n",
       "      <th>264835</th>\n",
       "      <td>2018-09-22</td>\n",
       "      <td>272</td>\n",
       "      <td>272380</td>\n",
       "      <td>270189</td>\n",
       "      <td>74</td>\n",
       "      <td>tostitos splash of  lime 175g</td>\n",
       "      <td>2</td>\n",
       "      <td>8.8</td>\n",
       "    </tr>\n",
       "  </tbody>\n",
       "</table>\n",
       "<p>246740 rows × 8 columns</p>\n",
       "</div>"
      ],
      "text/plain": [
       "             DATE  STORE_NBR  LYLTY_CARD_NBR  TXN_ID  PROD_NBR  \\\n",
       "0      2018-10-17          1            1000       1         5   \n",
       "1      2019-05-14          1            1307     348        66   \n",
       "2      2019-05-20          1            1343     383        61   \n",
       "3      2018-08-17          2            2373     974        69   \n",
       "4      2018-08-18          2            2426    1038       108   \n",
       "...           ...        ...             ...     ...       ...   \n",
       "264831 2019-03-09        272          272319  270088        89   \n",
       "264832 2018-08-13        272          272358  270154        74   \n",
       "264833 2018-11-06        272          272379  270187        51   \n",
       "264834 2018-12-27        272          272379  270188        42   \n",
       "264835 2018-09-22        272          272380  270189        74   \n",
       "\n",
       "                                       PROD_NAME  PROD_QTY  TOT_SALES  \n",
       "0        natural chips        compny seasalt175g         2        6.0  \n",
       "1                       ccs nacho cheese    175g         3        6.3  \n",
       "2         smiths crinkle cut  chips chicken 170g         2        2.9  \n",
       "3        smiths chips thinly  s/cream&onion 175g         5       15.0  \n",
       "4       kettle tortilla chpshny&jlpno chili 150g         3       13.8  \n",
       "...                                          ...       ...        ...  \n",
       "264831   kettle sweet chilli and sour cream 175g         2       10.8  \n",
       "264832             tostitos splash of  lime 175g         1        4.4  \n",
       "264833                  doritos mexicana    170g         2        8.8  \n",
       "264834  doritos corn chips mexican jalapeno 150g         2        7.8  \n",
       "264835             tostitos splash of  lime 175g         2        8.8  \n",
       "\n",
       "[246740 rows x 8 columns]"
      ]
     },
     "execution_count": 21,
     "metadata": {},
     "output_type": "execute_result"
    }
   ],
   "source": [
    "transaction_data # use the link below to open data wrangler in vs code"
   ]
  },
  {
   "cell_type": "code",
   "execution_count": 22,
   "id": "a5ebf2ef",
   "metadata": {},
   "outputs": [
    {
     "name": "stderr",
     "output_type": "stream",
     "text": [
      "C:\\Users\\Amin\\AppData\\Local\\Temp\\ipykernel_26824\\330523452.py:2: SettingWithCopyWarning: \n",
      "A value is trying to be set on a copy of a slice from a DataFrame.\n",
      "Try using .loc[row_indexer,col_indexer] = value instead\n",
      "\n",
      "See the caveats in the documentation: https://pandas.pydata.org/pandas-docs/stable/user_guide/indexing.html#returning-a-view-versus-a-copy\n",
      "  transaction_data['PACK_SIZE'] = transaction_data['PROD_NAME'].str.extract(r'(\\d+)').astype(float)\n"
     ]
    }
   ],
   "source": [
    "# Extract pack size\n",
    "transaction_data['PACK_SIZE'] = transaction_data['PROD_NAME'].str.extract(r'(\\d+)').astype(float)"
   ]
  },
  {
   "cell_type": "code",
   "execution_count": 23,
   "id": "b14a85e4",
   "metadata": {},
   "outputs": [
    {
     "data": {
      "image/png": "[encoded data removed]",
      "text/plain": [
       "<Figure size 640x480 with 1 Axes>"
      ]
     },
     "metadata": {},
     "output_type": "display_data"
    }
   ],
   "source": [
    "plt.hist(transaction_data['PACK_SIZE'], bins=10)\n",
    "plt.title(\"Pack Size Distribution\")\n",
    "plt.xlabel(\"Pack Size (g)\")\n",
    "plt.ylabel(\"Frequency\")\n",
    "plt.show()"
   ]
  },
  {
   "cell_type": "code",
   "execution_count": 24,
   "id": "a54e1c41",
   "metadata": {},
   "outputs": [
    {
     "name": "stderr",
     "output_type": "stream",
     "text": [
      "C:\\Users\\Amin\\AppData\\Local\\Temp\\ipykernel_26824\\3808866524.py:2: SettingWithCopyWarning: \n",
      "A value is trying to be set on a copy of a slice from a DataFrame.\n",
      "Try using .loc[row_indexer,col_indexer] = value instead\n",
      "\n",
      "See the caveats in the documentation: https://pandas.pydata.org/pandas-docs/stable/user_guide/indexing.html#returning-a-view-versus-a-copy\n",
      "  transaction_data['BRAND'] = transaction_data['PROD_NAME'].str.split().str[0].str.upper()\n"
     ]
    }
   ],
   "source": [
    "# Extract brand\n",
    "transaction_data['BRAND'] = transaction_data['PROD_NAME'].str.split().str[0].str.upper()"
   ]
  },
  {
   "cell_type": "code",
   "execution_count": 25,
   "id": "d56138bf",
   "metadata": {},
   "outputs": [],
   "source": [
    "# after observing the brand column, Some of the brand names look like they are of the same brands - \n",
    "# such as RED and RRD, which are both Red Rock Deli chips. Let’s combine these together."
   ]
  },
  {
   "cell_type": "code",
   "execution_count": 26,
   "id": "a5aed33b",
   "metadata": {},
   "outputs": [
    {
     "name": "stderr",
     "output_type": "stream",
     "text": [
      "C:\\Users\\Amin\\AppData\\Local\\Temp\\ipykernel_26824\\1611709099.py:6: SettingWithCopyWarning: \n",
      "A value is trying to be set on a copy of a slice from a DataFrame.\n",
      "Try using .loc[row_indexer,col_indexer] = value instead\n",
      "\n",
      "See the caveats in the documentation: https://pandas.pydata.org/pandas-docs/stable/user_guide/indexing.html#returning-a-view-versus-a-copy\n",
      "  transaction_data['BRAND'] = transaction_data['BRAND'].replace(brand_corrections)\n"
     ]
    }
   ],
   "source": [
    "# Clean up brand names\n",
    "brand_corrections = {\n",
    "    \"RED\": \"RRD\", \"SNBTS\": \"SUNBITES\", \"INFZNS\": \"INFUZIONS\", \"WW\": \"WOOLWORTHS\",\n",
    "    \"SMITH\": \"SMITHS\", \"NCC\": \"NATURAL\", \"DORITO\": \"DORITOS\", \"GRAIN\": \"GRNWVES\"\n",
    "}\n",
    "transaction_data['BRAND'] = transaction_data['BRAND'].replace(brand_corrections)"
   ]
  },
  {
   "cell_type": "code",
   "execution_count": 27,
   "id": "6800cdd0",
   "metadata": {},
   "outputs": [
    {
     "data": {
      "image/png": "[encoded data removed]",
      "text/plain": [
       "<Figure size 1000x600 with 1 Axes>"
      ]
     },
     "metadata": {},
     "output_type": "display_data"
    },
    {
     "data": {
      "image/png": "[encoded data removed]",
      "text/plain": [
       "<Figure size 1200x600 with 1 Axes>"
      ]
     },
     "metadata": {},
     "output_type": "display_data"
    }
   ],
   "source": [
    "# Get the value counts of brands\n",
    "brand_counts = transaction_data['BRAND'].value_counts()\n",
    "\n",
    "# Get the top 5 brands\n",
    "top_11_brands = brand_counts.head(11)\n",
    "\n",
    "# Sum up the counts for all other brands\n",
    "other_brands_count = brand_counts[11:].sum()\n",
    "\n",
    "# Create a new series with top 11 and 'Others'\n",
    "plot_data = pd.concat([top_11_brands, pd.Series({'Others': other_brands_count})])\n",
    "\n",
    "# Plot pie chart\n",
    "plt.figure(figsize=(10, 6))\n",
    "plt.pie(plot_data, autopct='%1.1f%%',labels=plot_data.index, startangle=90)\n",
    "plt.axis('equal')  # Equal aspect ratio ensures that pie is drawn as a circle\n",
    "plt.title('Distribution of Brands (Top 11 and Others)')\n",
    "plt.show()\n",
    "\n",
    "# plot bar chart\n",
    "plt.figure(figsize=(12, 6))\n",
    "plot_data.plot(kind='bar', color='skyblue')\n",
    "plt.title('Distribution of Brands (Top 7 and Others)')\n",
    "plt.xlabel('Brand')\n",
    "plt.ylabel('Count')\n",
    "plt.xticks(rotation=45)\n",
    "plt.tight_layout()\n",
    "plt.show()\n"
   ]
  },
  {
   "cell_type": "markdown",
   "id": "2622513d",
   "metadata": {},
   "source": [
    "7- Quick look on the customer_data"
   ]
  },
  {
   "cell_type": "code",
   "execution_count": 28,
   "id": "c7c0122e",
   "metadata": {},
   "outputs": [
    {
     "data": {
      "application/vnd.microsoft.datawrangler.viewer.v0+json": {
       "columns": [
        {
         "name": "index",
         "rawType": "int64",
         "type": "integer"
        },
        {
         "name": "LYLTY_CARD_NBR",
         "rawType": "int64",
         "type": "integer"
        },
        {
         "name": "LIFESTAGE",
         "rawType": "object",
         "type": "string"
        },
        {
         "name": "PREMIUM_CUSTOMER",
         "rawType": "object",
         "type": "string"
        }
       ],
       "conversionMethod": "pd.DataFrame",
       "ref": "d1d3111f-5e38-438e-93c3-0a830c75ab45",
       "rows": [
        [
         "0",
         "1000",
         "YOUNG SINGLES/COUPLES",
         "Premium"
        ],
        [
         "1",
         "1002",
         "YOUNG SINGLES/COUPLES",
         "Mainstream"
        ],
        [
         "2",
         "1003",
         "YOUNG FAMILIES",
         "Budget"
        ],
        [
         "3",
         "1004",
         "OLDER SINGLES/COUPLES",
         "Mainstream"
        ],
        [
         "4",
         "1005",
         "MIDAGE SINGLES/COUPLES",
         "Mainstream"
        ],
        [
         "5",
         "1007",
         "YOUNG SINGLES/COUPLES",
         "Budget"
        ],
        [
         "6",
         "1009",
         "NEW FAMILIES",
         "Premium"
        ],
        [
         "7",
         "1010",
         "YOUNG SINGLES/COUPLES",
         "Mainstream"
        ],
        [
         "8",
         "1011",
         "OLDER SINGLES/COUPLES",
         "Mainstream"
        ],
        [
         "9",
         "1012",
         "OLDER FAMILIES",
         "Mainstream"
        ],
        [
         "10",
         "1013",
         "RETIREES",
         "Budget"
        ],
        [
         "11",
         "1016",
         "OLDER FAMILIES",
         "Mainstream"
        ],
        [
         "12",
         "1018",
         "YOUNG SINGLES/COUPLES",
         "Mainstream"
        ],
        [
         "13",
         "1019",
         "OLDER SINGLES/COUPLES",
         "Premium"
        ],
        [
         "14",
         "1020",
         "YOUNG SINGLES/COUPLES",
         "Mainstream"
        ],
        [
         "15",
         "1022",
         "OLDER FAMILIES",
         "Budget"
        ],
        [
         "16",
         "1023",
         "MIDAGE SINGLES/COUPLES",
         "Premium"
        ],
        [
         "17",
         "1024",
         "YOUNG SINGLES/COUPLES",
         "Premium"
        ],
        [
         "18",
         "1025",
         "YOUNG FAMILIES",
         "Budget"
        ],
        [
         "19",
         "1026",
         "MIDAGE SINGLES/COUPLES",
         "Premium"
        ],
        [
         "20",
         "1027",
         "OLDER FAMILIES",
         "Premium"
        ],
        [
         "21",
         "1028",
         "YOUNG SINGLES/COUPLES",
         "Budget"
        ],
        [
         "22",
         "1030",
         "RETIREES",
         "Mainstream"
        ],
        [
         "23",
         "1034",
         "RETIREES",
         "Premium"
        ],
        [
         "24",
         "1038",
         "OLDER FAMILIES",
         "Mainstream"
        ],
        [
         "25",
         "1039",
         "YOUNG FAMILIES",
         "Mainstream"
        ],
        [
         "26",
         "1042",
         "YOUNG SINGLES/COUPLES",
         "Premium"
        ],
        [
         "27",
         "1043",
         "YOUNG FAMILIES",
         "Budget"
        ],
        [
         "28",
         "1044",
         "YOUNG FAMILIES",
         "Mainstream"
        ],
        [
         "29",
         "1046",
         "YOUNG SINGLES/COUPLES",
         "Budget"
        ],
        [
         "30",
         "1048",
         "OLDER FAMILIES",
         "Mainstream"
        ],
        [
         "31",
         "1050",
         "YOUNG FAMILIES",
         "Budget"
        ],
        [
         "32",
         "1051",
         "YOUNG SINGLES/COUPLES",
         "Budget"
        ],
        [
         "33",
         "1052",
         "MIDAGE SINGLES/COUPLES",
         "Budget"
        ],
        [
         "34",
         "1053",
         "MIDAGE SINGLES/COUPLES",
         "Mainstream"
        ],
        [
         "35",
         "1054",
         "NEW FAMILIES",
         "Mainstream"
        ],
        [
         "36",
         "1055",
         "RETIREES",
         "Mainstream"
        ],
        [
         "37",
         "1056",
         "MIDAGE SINGLES/COUPLES",
         "Mainstream"
        ],
        [
         "38",
         "1057",
         "MIDAGE SINGLES/COUPLES",
         "Mainstream"
        ],
        [
         "39",
         "1060",
         "YOUNG SINGLES/COUPLES",
         "Mainstream"
        ],
        [
         "40",
         "1061",
         "OLDER SINGLES/COUPLES",
         "Budget"
        ],
        [
         "41",
         "1062",
         "YOUNG FAMILIES",
         "Premium"
        ],
        [
         "42",
         "1064",
         "YOUNG FAMILIES",
         "Budget"
        ],
        [
         "43",
         "1065",
         "MIDAGE SINGLES/COUPLES",
         "Premium"
        ],
        [
         "44",
         "1067",
         "OLDER SINGLES/COUPLES",
         "Mainstream"
        ],
        [
         "45",
         "1068",
         "YOUNG SINGLES/COUPLES",
         "Premium"
        ],
        [
         "46",
         "1071",
         "YOUNG FAMILIES",
         "Mainstream"
        ],
        [
         "47",
         "1072",
         "NEW FAMILIES",
         "Premium"
        ],
        [
         "48",
         "1074",
         "RETIREES",
         "Budget"
        ],
        [
         "49",
         "1076",
         "YOUNG SINGLES/COUPLES",
         "Budget"
        ]
       ],
       "shape": {
        "columns": 3,
        "rows": 72637
       }
      },
      "text/html": [
       "<div>\n",
       "<style scoped>\n",
       "    .dataframe tbody tr th:only-of-type {\n",
       "        vertical-align: middle;\n",
       "    }\n",
       "\n",
       "    .dataframe tbody tr th {\n",
       "        vertical-align: top;\n",
       "    }\n",
       "\n",
       "    .dataframe thead th {\n",
       "        text-align: right;\n",
       "    }\n",
       "</style>\n",
       "<table border=\"1\" class=\"dataframe\">\n",
       "  <thead>\n",
       "    <tr style=\"text-align: right;\">\n",
       "      <th></th>\n",
       "      <th>LYLTY_CARD_NBR</th>\n",
       "      <th>LIFESTAGE</th>\n",
       "      <th>PREMIUM_CUSTOMER</th>\n",
       "    </tr>\n",
       "  </thead>\n",
       "  <tbody>\n",
       "    <tr>\n",
       "      <th>0</th>\n",
       "      <td>1000</td>\n",
       "      <td>YOUNG SINGLES/COUPLES</td>\n",
       "      <td>Premium</td>\n",
       "    </tr>\n",
       "    <tr>\n",
       "      <th>1</th>\n",
       "      <td>1002</td>\n",
       "      <td>YOUNG SINGLES/COUPLES</td>\n",
       "      <td>Mainstream</td>\n",
       "    </tr>\n",
       "    <tr>\n",
       "      <th>2</th>\n",
       "      <td>1003</td>\n",
       "      <td>YOUNG FAMILIES</td>\n",
       "      <td>Budget</td>\n",
       "    </tr>\n",
       "    <tr>\n",
       "      <th>3</th>\n",
       "      <td>1004</td>\n",
       "      <td>OLDER SINGLES/COUPLES</td>\n",
       "      <td>Mainstream</td>\n",
       "    </tr>\n",
       "    <tr>\n",
       "      <th>4</th>\n",
       "      <td>1005</td>\n",
       "      <td>MIDAGE SINGLES/COUPLES</td>\n",
       "      <td>Mainstream</td>\n",
       "    </tr>\n",
       "    <tr>\n",
       "      <th>...</th>\n",
       "      <td>...</td>\n",
       "      <td>...</td>\n",
       "      <td>...</td>\n",
       "    </tr>\n",
       "    <tr>\n",
       "      <th>72632</th>\n",
       "      <td>2370651</td>\n",
       "      <td>MIDAGE SINGLES/COUPLES</td>\n",
       "      <td>Mainstream</td>\n",
       "    </tr>\n",
       "    <tr>\n",
       "      <th>72633</th>\n",
       "      <td>2370701</td>\n",
       "      <td>YOUNG FAMILIES</td>\n",
       "      <td>Mainstream</td>\n",
       "    </tr>\n",
       "    <tr>\n",
       "      <th>72634</th>\n",
       "      <td>2370751</td>\n",
       "      <td>YOUNG FAMILIES</td>\n",
       "      <td>Premium</td>\n",
       "    </tr>\n",
       "    <tr>\n",
       "      <th>72635</th>\n",
       "      <td>2370961</td>\n",
       "      <td>OLDER FAMILIES</td>\n",
       "      <td>Budget</td>\n",
       "    </tr>\n",
       "    <tr>\n",
       "      <th>72636</th>\n",
       "      <td>2373711</td>\n",
       "      <td>YOUNG SINGLES/COUPLES</td>\n",
       "      <td>Mainstream</td>\n",
       "    </tr>\n",
       "  </tbody>\n",
       "</table>\n",
       "<p>72637 rows × 3 columns</p>\n",
       "</div>"
      ],
      "text/plain": [
       "       LYLTY_CARD_NBR               LIFESTAGE PREMIUM_CUSTOMER\n",
       "0                1000   YOUNG SINGLES/COUPLES          Premium\n",
       "1                1002   YOUNG SINGLES/COUPLES       Mainstream\n",
       "2                1003          YOUNG FAMILIES           Budget\n",
       "3                1004   OLDER SINGLES/COUPLES       Mainstream\n",
       "4                1005  MIDAGE SINGLES/COUPLES       Mainstream\n",
       "...               ...                     ...              ...\n",
       "72632         2370651  MIDAGE SINGLES/COUPLES       Mainstream\n",
       "72633         2370701          YOUNG FAMILIES       Mainstream\n",
       "72634         2370751          YOUNG FAMILIES          Premium\n",
       "72635         2370961          OLDER FAMILIES           Budget\n",
       "72636         2373711   YOUNG SINGLES/COUPLES       Mainstream\n",
       "\n",
       "[72637 rows x 3 columns]"
      ]
     },
     "execution_count": 28,
     "metadata": {},
     "output_type": "execute_result"
    }
   ],
   "source": [
    "# lets go through the customer_data\n",
    "# data wrangler\n",
    "customer_data"
   ]
  },
  {
   "cell_type": "code",
   "execution_count": 29,
   "id": "b89e0da5",
   "metadata": {},
   "outputs": [
    {
     "name": "stdout",
     "output_type": "stream",
     "text": [
      "<class 'pandas.core.frame.DataFrame'>\n",
      "RangeIndex: 72637 entries, 0 to 72636\n",
      "Data columns (total 3 columns):\n",
      " #   Column            Non-Null Count  Dtype \n",
      "---  ------            --------------  ----- \n",
      " 0   LYLTY_CARD_NBR    72637 non-null  int64 \n",
      " 1   LIFESTAGE         72637 non-null  object\n",
      " 2   PREMIUM_CUSTOMER  72637 non-null  object\n",
      "dtypes: int64(1), object(2)\n",
      "memory usage: 1.7+ MB\n"
     ]
    },
    {
     "data": {
      "text/plain": [
       "LYLTY_CARD_NBR      0\n",
       "LIFESTAGE           0\n",
       "PREMIUM_CUSTOMER    0\n",
       "dtype: int64"
      ]
     },
     "execution_count": 29,
     "metadata": {},
     "output_type": "execute_result"
    }
   ],
   "source": [
    "customer_data.describe()\n",
    "customer_data.info()\n",
    "customer_data.isnull().sum()\n"
   ]
  },
  {
   "cell_type": "code",
   "execution_count": 30,
   "id": "67ba2bd4",
   "metadata": {},
   "outputs": [
    {
     "data": {
      "image/png": "[encoded data removed]",
      "text/plain": [
       "<Figure size 1000x600 with 1 Axes>"
      ]
     },
     "metadata": {},
     "output_type": "display_data"
    },
    {
     "data": {
      "image/png": "[encoded data removed]",
      "text/plain": [
       "<Figure size 1200x600 with 1 Axes>"
      ]
     },
     "metadata": {},
     "output_type": "display_data"
    }
   ],
   "source": [
    "LIFESTAGE_counts = customer_data['LIFESTAGE'].value_counts()\n",
    "\n",
    "# Plot pie chart\n",
    "plt.figure(figsize=(10, 6))\n",
    "plt.pie(LIFESTAGE_counts, autopct='%1.1f%%',labels=LIFESTAGE_counts.index, startangle=90)\n",
    "plt.axis('equal')  # Equal aspect ratio ensures that pie is drawn as a circle\n",
    "plt.title('LIFESTAGE_counts')\n",
    "plt.show()\n",
    "\n",
    "#  plot bar chart\n",
    "plt.figure(figsize=(12, 6))\n",
    "LIFESTAGE_counts.plot(kind='bar', color='skyblue')\n",
    "plt.title('Distribution of Brands (Top 7 and Others)')\n",
    "plt.xlabel('LIFESTAGE')\n",
    "plt.ylabel('Count')\n",
    "plt.xticks(rotation=45)\n",
    "plt.tight_layout()\n",
    "plt.show()\n"
   ]
  },
  {
   "cell_type": "markdown",
   "id": "7b0f7150",
   "metadata": {},
   "source": [
    "8- Merge Transaction Data and Customer Data"
   ]
  },
  {
   "cell_type": "code",
   "execution_count": 36,
   "id": "33f84507",
   "metadata": {},
   "outputs": [
    {
     "data": {
      "text/plain": [
       "DATE                0\n",
       "STORE_NBR           0\n",
       "LYLTY_CARD_NBR      0\n",
       "TXN_ID              0\n",
       "PROD_NBR            0\n",
       "PROD_NAME           0\n",
       "PROD_QTY            0\n",
       "TOT_SALES           0\n",
       "PACK_SIZE           0\n",
       "BRAND               0\n",
       "LIFESTAGE           0\n",
       "PREMIUM_CUSTOMER    0\n",
       "dtype: int64"
      ]
     },
     "execution_count": 36,
     "metadata": {},
     "output_type": "execute_result"
    }
   ],
   "source": [
    "mdata = pd.merge(transaction_data, customer_data, on=\"LYLTY_CARD_NBR\", how=\"left\")\n",
    "mdata.isnull().sum()\n"
   ]
  },
  {
   "cell_type": "code",
   "execution_count": 37,
   "id": "3f7d3e37",
   "metadata": {},
   "outputs": [],
   "source": [
    "mdata.dropna(subset=['LIFESTAGE', 'PREMIUM_CUSTOMER'], inplace=True)  # delete rows that have na values in lifestage and premium customer"
   ]
  },
  {
   "cell_type": "code",
   "execution_count": 38,
   "id": "660f3bae",
   "metadata": {},
   "outputs": [],
   "source": [
    "# Export the DataFrame to a CSV file\n",
    "mdata.to_csv('mdata.csv', index=False)"
   ]
  },
  {
   "cell_type": "markdown",
   "id": "2b28eed5",
   "metadata": {},
   "source": [
    "Data exploration is now complete! EDA is done."
   ]
  }
 ],
 "metadata": {
  "kernelspec": {
   "display_name": "base",
   "language": "python",
   "name": "python3"
  },
  "language_info": {
   "codemirror_mode": {
    "name": "ipython",
    "version": 3
   },
   "file_extension": ".py",
   "mimetype": "text/x-python",
   "name": "python",
   "nbconvert_exporter": "python",
   "pygments_lexer": "ipython3",
   "version": "3.12.4"
  }
 },
 "nbformat": 4,
 "nbformat_minor": 5
}
